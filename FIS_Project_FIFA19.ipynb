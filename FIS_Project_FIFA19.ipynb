{
  "cells": [
    {
      "cell_type": "markdown",
      "metadata": {
        "id": "elRfcgshWRku"
      },
      "source": [
        "# **FIS Group Project - A.Y. 2020/2021**\n",
        "\n",
        "## **Students**:\n",
        "### Zanotti Federico - 2007716 - federico.zanotti@studenti.unipd.it\n",
        "#### The project was realized toghether with other two colleagues, but to preserve personal information I do not mention them except for their names: Arghavan and Federico\n",
        "\n",
        "#### In particular the **Point 1** was realized by my colleague Federico, the **Point 2** by Arghavan, and the **Point 3** by Zanotti Federico\n",
        "\n"
      ]
    },
    {
      "cell_type": "markdown",
      "metadata": {
        "id": "5rTMWH0EKzf9"
      },
      "source": [
        "## Import libraries"
      ]
    },
    {
      "cell_type": "code",
      "execution_count": 1,
      "metadata": {
        "id": "HZ6o7lwKKyiO"
      },
      "outputs": [],
      "source": [
        "import ipywidgets as widgets\n",
        "import time\n",
        "import matplotlib\n",
        "import matplotlib.pyplot as plt\n",
        "import plotly.express as px\n",
        "import pandas as pd\n",
        "import numpy as np\n",
        "import csv\n",
        "from IPython.display import clear_output\n",
        "from datetime import datetime\n",
        "from ipywidgets import GridspecLayout, Layout\n",
        "from PIL import Image\n",
        "import requests\n",
        "from io import BytesIO\n",
        "import urllib"
      ]
    },
    {
      "cell_type": "markdown",
      "metadata": {
        "id": "J_xDBvUmAbut"
      },
      "source": [
        "## Retrieve Dataset from url\n",
        "\n"
      ]
    },
    {
      "cell_type": "code",
      "execution_count": 2,
      "metadata": {
        "id": "m2m-mPU6He08"
      },
      "outputs": [],
      "source": [
        "def create_datastructures():\n",
        "  url = \"http://www.dei.unipd.it/~silvello/FIS2020/fifa19.csv\"\n",
        "  df_data = pd.read_csv(url)\n",
        "  return df_data"
      ]
    },
    {
      "cell_type": "code",
      "execution_count": 12,
      "metadata": {
        "colab": {
          "base_uri": "https://localhost:8080/",
          "height": 404
        },
        "id": "awxuONMjyTAW",
        "outputId": "d1d71f8e-555b-4bbf-c31b-23e2ee43dcde"
      },
      "outputs": [
        {
          "output_type": "execute_result",
          "data": {
            "text/plain": [
              "   Unnamed: 0      ID               Name  Age  \\\n",
              "0           0  158023           L. Messi   31   \n",
              "1           1   20801  Cristiano Ronaldo   33   \n",
              "2           2  190871          Neymar Jr   26   \n",
              "3           3  193080             De Gea   27   \n",
              "4           4  192985       K. De Bruyne   27   \n",
              "\n",
              "                                            Photo Nationality  \\\n",
              "0  https://cdn.sofifa.org/players/4/19/158023.png   Argentina   \n",
              "1   https://cdn.sofifa.org/players/4/19/20801.png    Portugal   \n",
              "2  https://cdn.sofifa.org/players/4/19/190871.png      Brazil   \n",
              "3  https://cdn.sofifa.org/players/4/19/193080.png       Spain   \n",
              "4  https://cdn.sofifa.org/players/4/19/192985.png     Belgium   \n",
              "\n",
              "                                  Flag  Overall  Potential  \\\n",
              "0  https://cdn.sofifa.org/flags/52.png       94         94   \n",
              "1  https://cdn.sofifa.org/flags/38.png       94         94   \n",
              "2  https://cdn.sofifa.org/flags/54.png       92         93   \n",
              "3  https://cdn.sofifa.org/flags/45.png       91         93   \n",
              "4   https://cdn.sofifa.org/flags/7.png       91         92   \n",
              "\n",
              "                  Club  ... Composure Marking StandingTackle  SlidingTackle  \\\n",
              "0         FC Barcelona  ...      96.0    33.0           28.0           26.0   \n",
              "1             Juventus  ...      95.0    28.0           31.0           23.0   \n",
              "2  Paris Saint-Germain  ...      94.0    27.0           24.0           33.0   \n",
              "3    Manchester United  ...      68.0    15.0           21.0           13.0   \n",
              "4      Manchester City  ...      88.0    68.0           58.0           51.0   \n",
              "\n",
              "  GKDiving  GKHandling  GKKicking  GKPositioning GKReflexes Release Clause  \n",
              "0      6.0        11.0       15.0           14.0        8.0        €226.5M  \n",
              "1      7.0        11.0       15.0           14.0       11.0        €127.1M  \n",
              "2      9.0         9.0       15.0           15.0       11.0        €228.1M  \n",
              "3     90.0        85.0       87.0           88.0       94.0        €138.6M  \n",
              "4     15.0        13.0        5.0           10.0       13.0        €196.4M  \n",
              "\n",
              "[5 rows x 89 columns]"
            ],
            "text/html": [
              "\n",
              "  <div id=\"df-d34cb22c-27c1-4a2f-8ab2-9c8ad48f886d\">\n",
              "    <div class=\"colab-df-container\">\n",
              "      <div>\n",
              "<style scoped>\n",
              "    .dataframe tbody tr th:only-of-type {\n",
              "        vertical-align: middle;\n",
              "    }\n",
              "\n",
              "    .dataframe tbody tr th {\n",
              "        vertical-align: top;\n",
              "    }\n",
              "\n",
              "    .dataframe thead th {\n",
              "        text-align: right;\n",
              "    }\n",
              "</style>\n",
              "<table border=\"1\" class=\"dataframe\">\n",
              "  <thead>\n",
              "    <tr style=\"text-align: right;\">\n",
              "      <th></th>\n",
              "      <th>Unnamed: 0</th>\n",
              "      <th>ID</th>\n",
              "      <th>Name</th>\n",
              "      <th>Age</th>\n",
              "      <th>Photo</th>\n",
              "      <th>Nationality</th>\n",
              "      <th>Flag</th>\n",
              "      <th>Overall</th>\n",
              "      <th>Potential</th>\n",
              "      <th>Club</th>\n",
              "      <th>...</th>\n",
              "      <th>Composure</th>\n",
              "      <th>Marking</th>\n",
              "      <th>StandingTackle</th>\n",
              "      <th>SlidingTackle</th>\n",
              "      <th>GKDiving</th>\n",
              "      <th>GKHandling</th>\n",
              "      <th>GKKicking</th>\n",
              "      <th>GKPositioning</th>\n",
              "      <th>GKReflexes</th>\n",
              "      <th>Release Clause</th>\n",
              "    </tr>\n",
              "  </thead>\n",
              "  <tbody>\n",
              "    <tr>\n",
              "      <th>0</th>\n",
              "      <td>0</td>\n",
              "      <td>158023</td>\n",
              "      <td>L. Messi</td>\n",
              "      <td>31</td>\n",
              "      <td>https://cdn.sofifa.org/players/4/19/158023.png</td>\n",
              "      <td>Argentina</td>\n",
              "      <td>https://cdn.sofifa.org/flags/52.png</td>\n",
              "      <td>94</td>\n",
              "      <td>94</td>\n",
              "      <td>FC Barcelona</td>\n",
              "      <td>...</td>\n",
              "      <td>96.0</td>\n",
              "      <td>33.0</td>\n",
              "      <td>28.0</td>\n",
              "      <td>26.0</td>\n",
              "      <td>6.0</td>\n",
              "      <td>11.0</td>\n",
              "      <td>15.0</td>\n",
              "      <td>14.0</td>\n",
              "      <td>8.0</td>\n",
              "      <td>€226.5M</td>\n",
              "    </tr>\n",
              "    <tr>\n",
              "      <th>1</th>\n",
              "      <td>1</td>\n",
              "      <td>20801</td>\n",
              "      <td>Cristiano Ronaldo</td>\n",
              "      <td>33</td>\n",
              "      <td>https://cdn.sofifa.org/players/4/19/20801.png</td>\n",
              "      <td>Portugal</td>\n",
              "      <td>https://cdn.sofifa.org/flags/38.png</td>\n",
              "      <td>94</td>\n",
              "      <td>94</td>\n",
              "      <td>Juventus</td>\n",
              "      <td>...</td>\n",
              "      <td>95.0</td>\n",
              "      <td>28.0</td>\n",
              "      <td>31.0</td>\n",
              "      <td>23.0</td>\n",
              "      <td>7.0</td>\n",
              "      <td>11.0</td>\n",
              "      <td>15.0</td>\n",
              "      <td>14.0</td>\n",
              "      <td>11.0</td>\n",
              "      <td>€127.1M</td>\n",
              "    </tr>\n",
              "    <tr>\n",
              "      <th>2</th>\n",
              "      <td>2</td>\n",
              "      <td>190871</td>\n",
              "      <td>Neymar Jr</td>\n",
              "      <td>26</td>\n",
              "      <td>https://cdn.sofifa.org/players/4/19/190871.png</td>\n",
              "      <td>Brazil</td>\n",
              "      <td>https://cdn.sofifa.org/flags/54.png</td>\n",
              "      <td>92</td>\n",
              "      <td>93</td>\n",
              "      <td>Paris Saint-Germain</td>\n",
              "      <td>...</td>\n",
              "      <td>94.0</td>\n",
              "      <td>27.0</td>\n",
              "      <td>24.0</td>\n",
              "      <td>33.0</td>\n",
              "      <td>9.0</td>\n",
              "      <td>9.0</td>\n",
              "      <td>15.0</td>\n",
              "      <td>15.0</td>\n",
              "      <td>11.0</td>\n",
              "      <td>€228.1M</td>\n",
              "    </tr>\n",
              "    <tr>\n",
              "      <th>3</th>\n",
              "      <td>3</td>\n",
              "      <td>193080</td>\n",
              "      <td>De Gea</td>\n",
              "      <td>27</td>\n",
              "      <td>https://cdn.sofifa.org/players/4/19/193080.png</td>\n",
              "      <td>Spain</td>\n",
              "      <td>https://cdn.sofifa.org/flags/45.png</td>\n",
              "      <td>91</td>\n",
              "      <td>93</td>\n",
              "      <td>Manchester United</td>\n",
              "      <td>...</td>\n",
              "      <td>68.0</td>\n",
              "      <td>15.0</td>\n",
              "      <td>21.0</td>\n",
              "      <td>13.0</td>\n",
              "      <td>90.0</td>\n",
              "      <td>85.0</td>\n",
              "      <td>87.0</td>\n",
              "      <td>88.0</td>\n",
              "      <td>94.0</td>\n",
              "      <td>€138.6M</td>\n",
              "    </tr>\n",
              "    <tr>\n",
              "      <th>4</th>\n",
              "      <td>4</td>\n",
              "      <td>192985</td>\n",
              "      <td>K. De Bruyne</td>\n",
              "      <td>27</td>\n",
              "      <td>https://cdn.sofifa.org/players/4/19/192985.png</td>\n",
              "      <td>Belgium</td>\n",
              "      <td>https://cdn.sofifa.org/flags/7.png</td>\n",
              "      <td>91</td>\n",
              "      <td>92</td>\n",
              "      <td>Manchester City</td>\n",
              "      <td>...</td>\n",
              "      <td>88.0</td>\n",
              "      <td>68.0</td>\n",
              "      <td>58.0</td>\n",
              "      <td>51.0</td>\n",
              "      <td>15.0</td>\n",
              "      <td>13.0</td>\n",
              "      <td>5.0</td>\n",
              "      <td>10.0</td>\n",
              "      <td>13.0</td>\n",
              "      <td>€196.4M</td>\n",
              "    </tr>\n",
              "  </tbody>\n",
              "</table>\n",
              "<p>5 rows × 89 columns</p>\n",
              "</div>\n",
              "      <button class=\"colab-df-convert\" onclick=\"convertToInteractive('df-d34cb22c-27c1-4a2f-8ab2-9c8ad48f886d')\"\n",
              "              title=\"Convert this dataframe to an interactive table.\"\n",
              "              style=\"display:none;\">\n",
              "        \n",
              "  <svg xmlns=\"http://www.w3.org/2000/svg\" height=\"24px\"viewBox=\"0 0 24 24\"\n",
              "       width=\"24px\">\n",
              "    <path d=\"M0 0h24v24H0V0z\" fill=\"none\"/>\n",
              "    <path d=\"M18.56 5.44l.94 2.06.94-2.06 2.06-.94-2.06-.94-.94-2.06-.94 2.06-2.06.94zm-11 1L8.5 8.5l.94-2.06 2.06-.94-2.06-.94L8.5 2.5l-.94 2.06-2.06.94zm10 10l.94 2.06.94-2.06 2.06-.94-2.06-.94-.94-2.06-.94 2.06-2.06.94z\"/><path d=\"M17.41 7.96l-1.37-1.37c-.4-.4-.92-.59-1.43-.59-.52 0-1.04.2-1.43.59L10.3 9.45l-7.72 7.72c-.78.78-.78 2.05 0 2.83L4 21.41c.39.39.9.59 1.41.59.51 0 1.02-.2 1.41-.59l7.78-7.78 2.81-2.81c.8-.78.8-2.07 0-2.86zM5.41 20L4 18.59l7.72-7.72 1.47 1.35L5.41 20z\"/>\n",
              "  </svg>\n",
              "      </button>\n",
              "      \n",
              "  <style>\n",
              "    .colab-df-container {\n",
              "      display:flex;\n",
              "      flex-wrap:wrap;\n",
              "      gap: 12px;\n",
              "    }\n",
              "\n",
              "    .colab-df-convert {\n",
              "      background-color: #E8F0FE;\n",
              "      border: none;\n",
              "      border-radius: 50%;\n",
              "      cursor: pointer;\n",
              "      display: none;\n",
              "      fill: #1967D2;\n",
              "      height: 32px;\n",
              "      padding: 0 0 0 0;\n",
              "      width: 32px;\n",
              "    }\n",
              "\n",
              "    .colab-df-convert:hover {\n",
              "      background-color: #E2EBFA;\n",
              "      box-shadow: 0px 1px 2px rgba(60, 64, 67, 0.3), 0px 1px 3px 1px rgba(60, 64, 67, 0.15);\n",
              "      fill: #174EA6;\n",
              "    }\n",
              "\n",
              "    [theme=dark] .colab-df-convert {\n",
              "      background-color: #3B4455;\n",
              "      fill: #D2E3FC;\n",
              "    }\n",
              "\n",
              "    [theme=dark] .colab-df-convert:hover {\n",
              "      background-color: #434B5C;\n",
              "      box-shadow: 0px 1px 3px 1px rgba(0, 0, 0, 0.15);\n",
              "      filter: drop-shadow(0px 1px 2px rgba(0, 0, 0, 0.3));\n",
              "      fill: #FFFFFF;\n",
              "    }\n",
              "  </style>\n",
              "\n",
              "      <script>\n",
              "        const buttonEl =\n",
              "          document.querySelector('#df-d34cb22c-27c1-4a2f-8ab2-9c8ad48f886d button.colab-df-convert');\n",
              "        buttonEl.style.display =\n",
              "          google.colab.kernel.accessAllowed ? 'block' : 'none';\n",
              "\n",
              "        async function convertToInteractive(key) {\n",
              "          const element = document.querySelector('#df-d34cb22c-27c1-4a2f-8ab2-9c8ad48f886d');\n",
              "          const dataTable =\n",
              "            await google.colab.kernel.invokeFunction('convertToInteractive',\n",
              "                                                     [key], {});\n",
              "          if (!dataTable) return;\n",
              "\n",
              "          const docLinkHtml = 'Like what you see? Visit the ' +\n",
              "            '<a target=\"_blank\" href=https://colab.research.google.com/notebooks/data_table.ipynb>data table notebook</a>'\n",
              "            + ' to learn more about interactive tables.';\n",
              "          element.innerHTML = '';\n",
              "          dataTable['output_type'] = 'display_data';\n",
              "          await google.colab.output.renderOutput(dataTable, element);\n",
              "          const docLink = document.createElement('div');\n",
              "          docLink.innerHTML = docLinkHtml;\n",
              "          element.appendChild(docLink);\n",
              "        }\n",
              "      </script>\n",
              "    </div>\n",
              "  </div>\n",
              "  "
            ]
          },
          "metadata": {},
          "execution_count": 12
        }
      ],
      "source": [
        "fifa19_dataset = create_datastructures()\n",
        "fifa19_dataset.head()\n"
      ]
    },
    {
      "cell_type": "markdown",
      "metadata": {
        "id": "QXe3xrbMib62"
      },
      "source": [
        "# ***Point 1***  of the Project:\n",
        "An interactive application that takes two-player names as input and produces a visualization to compare their attributes. The visualization can be interactive. "
      ]
    },
    {
      "cell_type": "code",
      "execution_count": null,
      "metadata": {
        "id": "O0kx_BsyPKy2"
      },
      "outputs": [],
      "source": [
        "raw_data_1 = fifa19_dataset.copy()\n",
        "raw_data_1 = raw_data_1.set_index(raw_data_1.loc[:, 'ID'])\n",
        "raw_data_1 = raw_data_1.drop(['Unnamed: 0', 'ID'], axis=1)\n",
        "raw_data_1.head()"
      ]
    },
    {
      "cell_type": "markdown",
      "metadata": {
        "id": "GzccGYpzPKy5"
      },
      "source": [
        "## Photos: URL-generating and scraping functions\n",
        "\n",
        "#### Given the player ID, we were able to build URLs for player and club photos (URLs provided in the dataset are no longer valid) and scrape the SoFifa website using a fairly simple scraping function "
      ]
    },
    {
      "cell_type": "code",
      "execution_count": null,
      "metadata": {
        "id": "3fucJVniPKy6"
      },
      "outputs": [],
      "source": [
        "def create_photo_url_series(data):\n",
        "    l = {}\n",
        "    for i in data.index:\n",
        "        a = str(i)\n",
        "        buffer = ''\n",
        "        if len(a) < 6:\n",
        "            while (len(a) + len(buffer)) < 6:\n",
        "                buffer = buffer + '0'\n",
        "            url_plug = buffer + a\n",
        "            url_plug = url_plug[:3] + '/' + url_plug[3:] +'/'\n",
        "        else:\n",
        "            url_plug = a[:3] + '/' + a[3:] + '/'\n",
        "            \n",
        "        l[i] = 'https://cdn.sofifa.com/players/' + url_plug + '19_120.png'\n",
        "\n",
        "    return pd.Series(l)\n",
        "\n",
        "\n",
        "def find_club_id(text):\n",
        "    l = len(text)\n",
        "    i = 5\n",
        "    \n",
        "    while text[-i] != r'/':\n",
        "        i += 1\n",
        "        \n",
        "    return text[-i+1: -4]\n",
        "\n",
        "\n",
        "def create_clublogo_url_series(data):\n",
        "    d = {}\n",
        "    \n",
        "    for i in data.index:\n",
        "        d[data.loc[i, 'Club']] = d.get(data.loc[i, 'Club'], find_club_id(data.loc[i, 'Club Logo']))\n",
        "    \n",
        "    for club in d.keys():\n",
        "        d[club] = 'https://cdn.sofifa.com/teams/' + d[club] + '/120.png'\n",
        "\n",
        "    return pd.Series(d)\n",
        "\n",
        "\n",
        "def load_picture(url):\n",
        "    user_agent = 'Mozilla/5.0 (Windows; U; Windows NT 5.1; en-US; rv:1.9.0.7) Gecko/2009021910 Firefox/3.0.7'\n",
        "    headers = {'User-Agent': user_agent,}\n",
        "    request = urllib.request.Request(url,None,headers)\n",
        "    file = urllib.request.urlopen(request)\n",
        "    img = file.read()\n",
        "\n",
        "    return img"
      ]
    },
    {
      "cell_type": "markdown",
      "metadata": {
        "id": "UktIKY3ePKy7"
      },
      "source": [
        "## Data selection\n",
        "#### We decided to only include for comparison only meaningful attributes. We removed photos and other features that are only used for in-game dynamics but cannot be compared effectively (Body Type, changes to Overall when the players is used out of position in the game, etc)"
      ]
    },
    {
      "cell_type": "code",
      "execution_count": null,
      "metadata": {
        "id": "x9r8OAXSPKy7"
      },
      "outputs": [],
      "source": [
        "drop_cols_1 = ['Photo', 'Flag', 'Club Logo','Body Type', 'Real Face',\n",
        "               'LS', 'ST', 'RS', 'LW', 'LF', 'CF', 'RF', 'RW', 'LAM', 'CAM', 'RAM',\n",
        "             'LM', 'LCM', 'CM', 'RCM', 'RM', 'LWB', 'LDM', 'CDM', 'RDM', 'RWB', 'LB', 'LCB', 'CB', 'RCB', 'RB', 'Special']"
      ]
    },
    {
      "cell_type": "code",
      "execution_count": null,
      "metadata": {
        "id": "ru3l5Bz5PKy8"
      },
      "outputs": [],
      "source": [
        "comparable_data_1 = raw_data_1.drop(drop_cols_1, axis=1)"
      ]
    },
    {
      "cell_type": "code",
      "execution_count": null,
      "metadata": {
        "id": "KptWM057PKy8"
      },
      "outputs": [],
      "source": [
        "comparable_data_1"
      ]
    },
    {
      "cell_type": "markdown",
      "metadata": {
        "id": "p1Qh0STRPKy9"
      },
      "source": [
        "## User Interface (Jupyter is recommended, there are perfomance issues on CoLab with this library)\n",
        "#### We tried to make an interface similar to FIFA's in-game player comparison.\n",
        "#### We started by creating a radar chart by grouping into 6 macro-attributes. The dictionary below contains matches to each macro-attribute all the basic attributes and attaches a weight to them (source: https://www.fifauteam.com/fifa-20-attributes-guide/)\n",
        "#### The graph is created with Matplot, saved in RAM as a png file and loaded as an IPywidgets Image (the example below refers to Messi (blue) vs C. Ronaldo (red). "
      ]
    },
    {
      "cell_type": "code",
      "execution_count": null,
      "metadata": {
        "id": "rdPc8mxWPKy-"
      },
      "outputs": [],
      "source": [
        "attribute_master_1 = {'Pace' : [('Acceleration', 0.45), ('SprintSpeed', 0.55)],\n",
        "                        \n",
        "                        'Shooting': [('Finishing', 0.45), ('Volleys', 0.05), ('ShotPower', 0.2),\n",
        "                                     ('LongShots', 0.2), ('Positioning', 0.05), ('Penalties', 0.05)],\n",
        "                        \n",
        "                        'Dribbling': [('Agility', 0.1), ('Balance', 0.05), ('BallControl', 0.35),\n",
        "                                      ('Composure', 0), ('Dribbling', 0.50), ('Reactions', 0)],\n",
        "                        \n",
        "                        'Defending': [('HeadingAccuracy', 0.1), ('Interceptions', 0.2), ('Marking', 0.3),\n",
        "                                      ('SlidingTackle', 0.1), ('StandingTackle', 0.3)],\n",
        "                        \n",
        "                        'Passing': [('Crossing', 0.2), ('Curve', 0.05), ('FKAccuracy', 0.05),\n",
        "                                    ('LongPassing', 0.15), ('ShortPassing', 0.35), ('Vision', 0.25)],\n",
        "                        \n",
        "                        'Physical': [('Aggression', 0.2), ('Jumping', 0.05), ('Stamina', 0.25), ('Strength', 0.5)]\n",
        "                       }"
      ]
    },
    {
      "cell_type": "code",
      "execution_count": null,
      "metadata": {
        "id": "tpmm-C3sPKzA"
      },
      "outputs": [],
      "source": [
        "def create_skill_dataframe(dataset, attribute_master, id1, id2):\n",
        "    data = pd.DataFrame(index=[id1, id2], columns=attribute_master.keys())\n",
        "\n",
        "    for player in data.index:\n",
        "        for category in data.columns:\n",
        "            category_score = 0\n",
        "            for attribute in attribute_master[category]:\n",
        "                category_score += dataset.loc[player, attribute[0]] * attribute[1]\n",
        "                data.loc[player, category] = category_score\n",
        "\n",
        "    return data\n",
        "\n",
        "\n",
        "def create_skill_radar(dataset, skill_dataframe):\n",
        "    matplotlib.rcParams.font_size = 20\n",
        "    angles=[]\n",
        "    for n in range(6):\n",
        "        angles.append((n/6)*np.pi*2)\n",
        "    angles.append(angles[0])\n",
        "\n",
        "    categories = skill_dataframe.columns\n",
        "\n",
        "    ax = plt.subplot(111, polar=True)\n",
        "    plt.xticks(angles[:-1], categories)\n",
        "    ax.set_rlabel_position(0)\n",
        "    plt.yticks([20,40,60,80], ['20','40','60','80'], color='grey', size=16)\n",
        "    plt.ylim(0,100)\n",
        "\n",
        "    values = skill_dataframe.iloc[0].values.tolist()\n",
        "    values.append(values[0])\n",
        "\n",
        "    ax.plot(angles, values, 'royalblue', linewidth=1, linestyle='solid')\n",
        "    ax.fill(angles, values, 'royalblue', alpha=0.1)\n",
        "\n",
        "    values = skill_dataframe.iloc[1].values.tolist()\n",
        "    values.append(values[0])\n",
        "    ax.plot(angles, values, 'tomato',linewidth=1, linestyle='solid')\n",
        "    ax.fill(angles, values, 'tomato', alpha=0.1)\n",
        "    \n",
        "    fig = BytesIO()\n",
        "    plt.savefig(fig, format='png')\n",
        "    \n",
        "    return fig\n",
        "\n",
        "\n",
        "def radar_widget(radar_io):\n",
        "    radar_io.seek(0)\n",
        "    my_radar  = widgets.Image(value=radar_io.read(), format='png', layout=Layout(max_height='220px', max_width = '33%'))\n",
        "\n",
        "    return my_radar\n",
        "\n",
        "\n",
        "def create_radar_widget(dataset, attribute_master, id1, id2):\n",
        "    skill_df = create_skill_dataframe(dataset, attribute_master, id1, id2)\n",
        "    skill_radar = create_skill_radar(dataset, skill_df)\n",
        "    widget = radar_widget(skill_radar)\n",
        "    plt.close()\n",
        "\n",
        "    return widget"
      ]
    },
    {
      "cell_type": "code",
      "execution_count": null,
      "metadata": {
        "id": "8TdIV_ojPKzC"
      },
      "outputs": [],
      "source": [
        "\n",
        "create_radar_widget(comparable_data_1, attribute_master_1, 158023, 20801)"
      ]
    },
    {
      "cell_type": "markdown",
      "metadata": {
        "id": "skQw0EsVPKzD"
      },
      "source": [
        "## Header: Player Tab and Skill Graph\n",
        "#### The Player Tab features a photo of the player, his club and information about his main position and overall rating. It is created with IPywidgtes Images and Labels using box layouts. It is based on a dedicated DataFrame containing URLs and the relevant information.\n",
        "##### Text rendering is done with basic LaTex, the integration with the widgets is not very fast, but the library doesn't allow for a more Pythonic option in terms of text formatting"
      ]
    },
    {
      "cell_type": "code",
      "execution_count": null,
      "metadata": {
        "id": "JOt08REIPKzE"
      },
      "outputs": [],
      "source": [
        "def create_player_tab_data(raw_data):\n",
        "    df = raw_data[['Name', 'Overall', 'Position']].copy()\n",
        "    \n",
        "    df['photo'] = create_photo_url_series(raw_data)\n",
        "    df['clublogo'] = None\n",
        "    \n",
        "    clublogos = create_clublogo_url_series(raw_data)\n",
        "    \n",
        "    for i in df.index:\n",
        "        df.loc[i, 'clublogo'] = clublogos.loc[raw_data.loc[i, 'Club']]\n",
        "        \n",
        "    return df"
      ]
    },
    {
      "cell_type": "code",
      "execution_count": null,
      "metadata": {
        "id": "5_ebPXMHPKzE"
      },
      "outputs": [],
      "source": [
        "def create_player_tab_widget_(player_id, player_tab_data):\n",
        "    pos = widgets.Label(value = r'\\(\\LARGE \\textbf{' + player_tab_data['Position'].loc[player_id] + '}\\)',\n",
        "                             layout = Layout(display = 'flex', justify_content = 'center', height = '33%'))\n",
        "    \n",
        "    ovr =  widgets.Label(value = r'\\(\\LARGE \\textbf{' + str(player_tab_data['Overall'].loc[player_id]) + '}\\)',\n",
        "                             layout = Layout(display = 'flex', justify_content = 'center', height = '33%'))\n",
        "    \n",
        "    clubpic = widgets.Image(value = load_picture(player_tab_data['clublogo'].loc[player_id]), height = '33%')\n",
        "    \n",
        "    _2 = widgets.VBox([pos, ovr, clubpic], layout = Layout(display = 'flex', justify_content = 'center'))\n",
        "    \n",
        "    _1 = widgets.Image(value = load_picture(player_tab_data['photo'].loc[player_id]), width = '200px')\n",
        "    \n",
        "    return widgets.HBox([_1, _2], layout = Layout(max_height = '210px'))"
      ]
    },
    {
      "cell_type": "code",
      "execution_count": null,
      "metadata": {
        "id": "xnHsxmJ3PKzE"
      },
      "outputs": [],
      "source": [
        "def create_header_tab(comparable_data, attribute_master, player_tab_data, id1 = 158023, id2 = 20801):\n",
        "    tab_1 = create_player_tab_widget_(id1, player_tab_data)\n",
        "    tab_1.layout.border = '2px solid royalblue'\n",
        "    tab_2 = create_player_tab_widget_(id2, player_tab_data)\n",
        "    tab_2.layout.border = '2px solid tomato'\n",
        "    graph = create_radar_widget(comparable_data, attribute_master, id1, id2)\n",
        "    \n",
        "    return widgets.HBox([tab_1, graph, tab_2])"
      ]
    },
    {
      "cell_type": "code",
      "execution_count": null,
      "metadata": {
        "id": "-OM9RSQtPKzF"
      },
      "outputs": [],
      "source": [
        "player_tab_data_1 = create_player_tab_data(raw_data_1)"
      ]
    },
    {
      "cell_type": "code",
      "execution_count": null,
      "metadata": {
        "id": "APInw24HPKzG"
      },
      "outputs": [],
      "source": [
        "matplotlib.rc('font', **{'size': 20})\n",
        "create_header_tab(comparable_data_1, attribute_master_1, player_tab_data_1)"
      ]
    },
    {
      "cell_type": "markdown",
      "metadata": {
        "id": "m61IM82wPKzH"
      },
      "source": [
        "## Stats\n",
        "#### The Stats grid is based on the comparable data DataFrame and is built using IPywidgets Labels.\n",
        "#### In the full interface the grid is kept to a smaller size for better UX on smaller displays. Size of interface is fixed for the same purpose."
      ]
    },
    {
      "cell_type": "code",
      "execution_count": null,
      "metadata": {
        "id": "M3kML-h8PKzH"
      },
      "outputs": [],
      "source": [
        "def create_comparable_stats_grid(comparable_data, id1 = 158023, id2 = 20801):\n",
        "    rows = len(comparable_data.columns)\n",
        "    \n",
        "    comparable_stats_grid = GridspecLayout(rows, 3, layout= Layout(width = '1020px'))\n",
        "    for i in range(rows):\n",
        "        comparable_stats_grid[i , 1] = widgets.Label(value = comparable_data.columns[i],\n",
        "                                                    layout = Layout(display = 'flex', justify_content = 'center', border = '2px solid grey', height = '30px'))\n",
        "        comparable_stats_grid[i , 0] = widgets.Label(value = str(comparable_data[comparable_data.columns[i]].loc[id1]),\n",
        "                                                    layout = Layout(display = 'flex', justify_content = 'center', border = '2px solid royalblue'))\n",
        "        comparable_stats_grid[i , 2] = widgets.Label(value = str(comparable_data[comparable_data.columns[i]].loc[id2]),\n",
        "                                                    layout = Layout(display = 'flex', justify_content = 'center', border = '2px solid tomato'))\n",
        "        \n",
        "    return comparable_stats_grid"
      ]
    },
    {
      "cell_type": "code",
      "execution_count": null,
      "metadata": {
        "id": "X_hdEQsjPKzI"
      },
      "outputs": [],
      "source": [
        "create_comparable_stats_grid(comparable_data_1)"
      ]
    },
    {
      "cell_type": "markdown",
      "metadata": {
        "id": "zp4qfvZpPKzI"
      },
      "source": [
        "## Dropdown Menus\n",
        "#### Position, Country and Age Selection menus are intended for filtering of the Player Selection List.\n",
        "#### The Player Selection menu is capped at the 500 best players in terms of overall rating matching the criteria in the previous menus. It would've been too burdensome to have all 18.000 Players in a single menu\n",
        "#### Dropdown Menus are not interactive in the below example, they are activated in the full interface."
      ]
    },
    {
      "cell_type": "code",
      "execution_count": null,
      "metadata": {
        "id": "Dq7rXsFWPKzI"
      },
      "outputs": [],
      "source": [
        "def pos_select():\n",
        "    position_list = ['LS', 'ST', 'RS', 'LW', 'LF', 'CF', 'RF', 'RW', 'LAM', 'CAM', 'RAM',\n",
        "             'LM', 'LCM', 'CM', 'RCM', 'RM', 'LWB', 'LDM', 'CDM', 'RDM', 'RWB', 'LB', 'LCB', 'CB', 'RCB', 'RB', 'GK', 'ALL']\n",
        "\n",
        "    position_list = position_list[::-1]\n",
        "\n",
        "    position_selector = widgets.Dropdown(options = position_list,\n",
        "                               description = 'Position',\n",
        "                                        layout = Layout(width='330px'))\n",
        "    \n",
        "    return position_selector"
      ]
    },
    {
      "cell_type": "code",
      "execution_count": null,
      "metadata": {
        "id": "d-UCYCi9PKzJ"
      },
      "outputs": [],
      "source": [
        "def nationality_select(comparable_data):\n",
        "    nationalities = list(set(comparable_data['Nationality']))\n",
        "    nationalities.append('ALL')\n",
        "    nationalities.sort()\n",
        "    \n",
        "    selector = widgets.Dropdown(options = nationalities,\n",
        "                               description = 'Country',\n",
        "                                layout = Layout(width='330px'))\n",
        "    \n",
        "    return selector"
      ]
    },
    {
      "cell_type": "code",
      "execution_count": null,
      "metadata": {
        "id": "1TU2n5l3PKzJ"
      },
      "outputs": [],
      "source": [
        "def age_selectors(comparable_data):\n",
        "    ages = list(set(comparable_data['Age']))\n",
        "    ages.sort()\n",
        "    ages_ = ['ALL']\n",
        "    ages_.extend(ages)\n",
        "    \n",
        "    a_min = widgets.Dropdown(options = ages_,\n",
        "                             description = 'Min. Age',\n",
        "                                        layout = Layout(width='330px'))\n",
        "    \n",
        "    a_max = widgets.Dropdown(options = ages_,\n",
        "                             description = 'Max. Age',\n",
        "                                        layout = Layout(width='330px'))\n",
        "    \n",
        "    return a_min, a_max"
      ]
    },
    {
      "cell_type": "code",
      "execution_count": null,
      "metadata": {
        "id": "eQn8nv2VPKzJ"
      },
      "outputs": [],
      "source": [
        "def player_selector(masked_list):\n",
        "    sel = widgets.Dropdown(options = [(masked_list['Name'].loc[i], i) for i in masked_list.index[:500]],\n",
        "                             description = 'Sel. Player',\n",
        "                                        layout = Layout(width='330px'))\n",
        "    \n",
        "    return sel"
      ]
    },
    {
      "cell_type": "code",
      "execution_count": null,
      "metadata": {
        "id": "rBSD21ugPKzJ"
      },
      "outputs": [],
      "source": [
        "def generate_filters(comparable_data):\n",
        "    position = pos_select()\n",
        "    nationality = nationality_select(comparable_data)\n",
        "    a_min, a_max = age_selectors(comparable_data)\n",
        "    sel = player_selector(comparable_data)\n",
        "    \n",
        "    return (position, nationality, a_min, a_max, sel)"
      ]
    },
    {
      "cell_type": "code",
      "execution_count": null,
      "metadata": {
        "id": "aBGZA8z6PKzK"
      },
      "outputs": [],
      "source": [
        "def generate_filter_interface(comparable_data):\n",
        "    player1_selectors = generate_filters(comparable_data)\n",
        "    player2_selectors = generate_filters(comparable_data)\n",
        "    player2_selectors[4].value = 20801\n",
        "    \n",
        "    player1_interface = widgets.VBox([player1_selectors[i] for i in range(len(player1_selectors))])\n",
        "    player2_interface = widgets.VBox([player2_selectors[i] for i in range(len(player2_selectors))])\n",
        "    \n",
        "    compare_button = widgets.Button(description = 'Compare',\n",
        "                                        layout = Layout(width='330px'))\n",
        "    \n",
        "    interface = widgets.HBox([player1_interface, compare_button, player2_interface],\n",
        "                            layout = Layout(align_items = 'flex-end'))\n",
        "    \n",
        "    return player1_selectors, player2_selectors, interface, compare_button"
      ]
    },
    {
      "cell_type": "code",
      "execution_count": null,
      "metadata": {
        "id": "G1yHNRcxPKzK"
      },
      "outputs": [],
      "source": [
        "_ = generate_filter_interface(comparable_data_1)"
      ]
    },
    {
      "cell_type": "code",
      "execution_count": null,
      "metadata": {
        "id": "iS32BCUyPKzK"
      },
      "outputs": [],
      "source": [
        "_[2]"
      ]
    },
    {
      "cell_type": "markdown",
      "metadata": {
        "id": "chmoqM9jPKzK"
      },
      "source": [
        "## Interactivity formulas and Interface Generation\n",
        "#### Remember to click 'Compare' to update the interface"
      ]
    },
    {
      "cell_type": "code",
      "execution_count": null,
      "metadata": {
        "id": "dYBJ9UJaPKzL"
      },
      "outputs": [],
      "source": [
        "def update_masked_list_1(change):\n",
        "    option_list = masked_list_1.copy()\n",
        "    \n",
        "    if p1sel_1[0].value != 'ALL':\n",
        "        option_list = option_list[option_list['Position'] == p1sel_1[0].value]\n",
        "        \n",
        "    if p1sel_1[1].value != 'ALL':\n",
        "        option_list = option_list[option_list['Nationality'] == p1sel_1[1].value]\n",
        "        \n",
        "    if (p1sel_1[2].value != 'ALL'):\n",
        "        option_list = option_list[option_list['Age'] >= p1sel_1[2].value]\n",
        "        \n",
        "    if p1sel_1[3].value != 'ALL':\n",
        "        option_list = option_list[option_list['Age'] <= p1sel_1[3].value]\n",
        "    \n",
        "    p1sel_1[4].options = [(option_list['Name'].loc[i], i) for i in option_list.index[:500]]\n",
        "\n",
        "    \n",
        "def update_masked_list_2(change):\n",
        "    option_list = masked_list_1.copy()\n",
        "    \n",
        "    if p2sel_1[0].value != 'ALL':\n",
        "        option_list = option_list[option_list['Position'] == p2sel_1[0].value]\n",
        "        \n",
        "    if p2sel_1[1].value != 'ALL':\n",
        "        option_list = option_list[option_list['Nationality'] == p2sel_1[1].value]\n",
        "        \n",
        "    if (p2sel_1[2].value != 'ALL'):\n",
        "        option_list = option_list[option_list['Age'] >= p2sel_1[2].value]\n",
        "        \n",
        "    if p2sel_1[3].value != 'ALL':\n",
        "        option_list = option_list[option_list['Age'] <= p2sel_1[3].value]\n",
        "    \n",
        "    p2sel_1[4].options = [(option_list['Name'].loc[i], i) for i in option_list.index[:500]]\n",
        "    "
      ]
    },
    {
      "cell_type": "code",
      "execution_count": null,
      "metadata": {
        "id": "9zE2RFGGPKzL"
      },
      "outputs": [],
      "source": [
        "def generate_full_interface(comparable_data, attribute_master, player_tab_data, id1 = 158023, id2 = 20801):\n",
        "    header = create_header_tab(id1, id2, comparable_data, attribute_master, player_tab_data)\n",
        "    stats = create_comparable_stats_grid(comparable_data, id1, id2)\n",
        "    #p1sel, p2sel, filters = generate_filter_interface(comparable_data)\n",
        "    \n",
        "    return widgets.VBox([header, stats])"
      ]
    },
    {
      "cell_type": "code",
      "execution_count": null,
      "metadata": {
        "id": "BTc456qgPKzL"
      },
      "outputs": [],
      "source": [
        "def update_stats_grid(comparable_data_1, id1, id2, stats_grid):\n",
        "    for i in range(len(comparable_data_1.columns)):\n",
        "        stats_grid[i, 0].value = str(comparable_data_1[comparable_data_1.columns[i]].loc[id1])\n",
        "        stats_grid[i, 2].value = str(comparable_data_1[comparable_data_1.columns[i]].loc[id2])\n",
        "        \n",
        "    return stats_grid"
      ]
    },
    {
      "cell_type": "code",
      "execution_count": null,
      "metadata": {
        "id": "xlX28aZNPKzL"
      },
      "outputs": [],
      "source": [
        "def update_full_interface(change):\n",
        "    global p1sel_1\n",
        "    global p2sel_1\n",
        "    final_grid_1[1,0] = create_header_tab(comparable_data_1, attribute_master_1, player_tab_data_1, p1sel_1[4].value, p2sel_1[4].value)\n",
        "    final_grid_1[2,0] = update_stats_grid(comparable_data_1, p1sel_1[4].value, p2sel_1[4].value, final_grid_1[2,0])\n",
        "    \n",
        "    for i in range(len(p1sel_1)-1):\n",
        "        p1sel_1[i].observe(update_masked_list_1, names = 'value')\n",
        "        p2sel_1[i].observe(update_masked_list_2, names = 'value')\n",
        "    \n",
        "    p1sel_1[4].observe(update_full_interface, names = 'value')"
      ]
    },
    {
      "cell_type": "code",
      "execution_count": null,
      "metadata": {
        "id": "WKF23TE2PKzM"
      },
      "outputs": [],
      "source": [
        "masked_list_1 = comparable_data_1.copy()"
      ]
    },
    {
      "cell_type": "code",
      "execution_count": null,
      "metadata": {
        "id": "cCfXuURmPKzM"
      },
      "outputs": [],
      "source": [
        "final_grid_1 = GridspecLayout(3,1, layout = Layout(display = 'flex', flex_flow = 'column', grid_gap = '30px'))\n",
        "p1sel_1, p2sel_1, final_grid_1[0,0], compare_button_1 = generate_filter_interface(comparable_data_1)\n",
        "final_grid_1[1,0] = create_header_tab(comparable_data_1, attribute_master_1, player_tab_data_1)\n",
        "final_grid_1[2,0] = create_comparable_stats_grid(comparable_data_1)\n",
        "final_grid_1[2,0].layout.max_height = '400px'"
      ]
    },
    {
      "cell_type": "code",
      "execution_count": null,
      "metadata": {
        "id": "EHmJZuLePKzM"
      },
      "outputs": [],
      "source": [
        "for i in range(len(p1sel_1)-1):\n",
        "    p1sel_1[i].observe(update_masked_list_1, names = 'value')\n",
        "    p2sel_1[i].observe(update_masked_list_2, names = 'value')\n",
        "    \n",
        "compare_button_1.on_click(update_full_interface)"
      ]
    },
    {
      "cell_type": "markdown",
      "metadata": {
        "id": "CmIkPnQ1YqH6"
      },
      "source": [
        "## WARNING: to avoid conflict with other interactive parts of this project, run all above cells and the next one! "
      ]
    },
    {
      "cell_type": "code",
      "execution_count": null,
      "metadata": {
        "id": "skE5slzDPKzM"
      },
      "outputs": [],
      "source": [
        "final_grid_1"
      ]
    },
    {
      "cell_type": "markdown",
      "metadata": {
        "id": "zDod-ZjFiezf"
      },
      "source": [
        "# ***Point 2***  of the Project:\n",
        "An application that takes the name of a team as input and produces a visualization comparing the players in terms of an attribute of choice. The attribute can be an input or can be selected interactively. \n",
        "\n"
      ]
    },
    {
      "cell_type": "markdown",
      "metadata": {
        "id": "Wb6AOyVGC9tQ"
      },
      "source": [
        "## Please run the cells till the part which is called  \"The main Part\"\n",
        "## There after running the first cell Please choose a Club Name from dropdown and Then run the second Cell and choose a parameter then you can see the Graph Thank you."
      ]
    },
    {
      "cell_type": "markdown",
      "metadata": {
        "id": "nmgcH9Z2HlE7"
      },
      "source": [
        "## Cleaning"
      ]
    },
    {
      "cell_type": "code",
      "execution_count": null,
      "metadata": {
        "id": "Hdc0xD9teI5x"
      },
      "outputs": [],
      "source": [
        "# dropping the \"unname\" column\n",
        "\n",
        "fifac2= fifa19_dataset.drop('Unnamed: 0',1)\n",
        "fifac2 = fifac2.drop('ID',1)"
      ]
    },
    {
      "cell_type": "code",
      "execution_count": null,
      "metadata": {
        "id": "STktYOcmeI5z"
      },
      "outputs": [],
      "source": [
        "#dropping rows without Club and reseting the index\n",
        "df2 = fifac2[fifac2['Club'].notna()]\n",
        "df2=df2.reset_index(drop=True)"
      ]
    },
    {
      "cell_type": "code",
      "execution_count": null,
      "metadata": {
        "id": "HEHt3V3_eI50"
      },
      "outputs": [],
      "source": [
        "df2.columns"
      ]
    },
    {
      "cell_type": "markdown",
      "metadata": {
        "id": "K_8iPp73eI53"
      },
      "source": [
        "### Omitting signs from columns"
      ]
    },
    {
      "cell_type": "markdown",
      "metadata": {
        "id": "wwKcSXt6eI55"
      },
      "source": [
        "#### Value"
      ]
    },
    {
      "cell_type": "code",
      "execution_count": null,
      "metadata": {
        "id": "jxVw0ep-eI56"
      },
      "outputs": [],
      "source": [
        "print(df2['Value'])\n",
        "#print(df.dtypes['Value'])"
      ]
    },
    {
      "cell_type": "code",
      "execution_count": null,
      "metadata": {
        "id": "iWafL37UeI58"
      },
      "outputs": [],
      "source": [
        "df2.shape"
      ]
    },
    {
      "cell_type": "code",
      "execution_count": null,
      "metadata": {
        "id": "UWoXpDpTeI59"
      },
      "outputs": [],
      "source": [
        "df2['Value'] = df2['Value'].str.replace('€', '')"
      ]
    },
    {
      "cell_type": "code",
      "execution_count": null,
      "metadata": {
        "id": "mqd6SP3Qf8B2"
      },
      "outputs": [],
      "source": [
        "df20 = df2[~df2[\"Value\"].str.contains(\"M\")]\n",
        "df20 = df20[~df20[\"Value\"].str.contains(\"K\")]\n",
        "df20['Value'] = pd.to_numeric(df20['Value'])"
      ]
    },
    {
      "cell_type": "code",
      "execution_count": null,
      "metadata": {
        "id": "8_r8HGP8eI6A"
      },
      "outputs": [],
      "source": [
        "\n",
        "df2k=df2[df2['Value'].str.contains(\"K\")]\n",
        "df2k['Value'] = df2k['Value'].str.replace('K', '')\n",
        "df2k['Value'] = pd.to_numeric(df2k['Value'])\n",
        "#print(df2k['Value'])\n"
      ]
    },
    {
      "cell_type": "code",
      "execution_count": null,
      "metadata": {
        "id": "lUceQaxGeI6B"
      },
      "outputs": [],
      "source": [
        "df2M=df2[df2['Value'].str.contains(\"M\")]\n",
        "df2M['Value'] = df2M['Value'].str.replace('M', '')\n",
        "df2M['Value'] = pd.to_numeric(df2M['Value'])\n",
        "df2M['Value'] = df2M['Value']*(10**3)\n",
        "#print(df2M['Value'])"
      ]
    },
    {
      "cell_type": "code",
      "execution_count": null,
      "metadata": {
        "id": "Ea18DL2peI6C"
      },
      "outputs": [],
      "source": [
        "df2V=pd.concat([df2k,df2M,df20],axis=0)\n",
        "df2V.reset_index(drop=True, inplace=True)\n",
        "df2V.head\n"
      ]
    },
    {
      "cell_type": "markdown",
      "metadata": {
        "id": "XxTIIERQeI6E"
      },
      "source": [
        "#### Wage"
      ]
    },
    {
      "cell_type": "code",
      "execution_count": null,
      "metadata": {
        "id": "F-E6PO4rYAe-"
      },
      "outputs": [],
      "source": [
        "def clean_Wage2(x):\n",
        "    \n",
        "    if isinstance(x, str):\n",
        "        return(x.replace('€', '').replace('K', ''))\n",
        "    return(x)"
      ]
    },
    {
      "cell_type": "code",
      "execution_count": null,
      "metadata": {
        "id": "Asfo3J1IeI6F"
      },
      "outputs": [],
      "source": [
        "\n",
        "df2V['Wage'] = df2V['Wage'].apply(clean_Wage2).astype('float')\n",
        "df2V['Wage'] = pd.to_numeric(df2V['Wage'])\n"
      ]
    },
    {
      "cell_type": "code",
      "execution_count": null,
      "metadata": {
        "id": "HIpTgzYPZ9Rc"
      },
      "outputs": [],
      "source": [
        "df2V.shape"
      ]
    },
    {
      "cell_type": "markdown",
      "metadata": {
        "id": "KtKxuIOceI6G"
      },
      "source": [
        "#### Height"
      ]
    },
    {
      "cell_type": "code",
      "execution_count": null,
      "metadata": {
        "id": "MktDpFMHaWmO"
      },
      "outputs": [],
      "source": [
        "def clean_Height2(x):\n",
        "    \n",
        "    if isinstance(x, str):\n",
        "        return(x.replace(\"'\", '.'))\n",
        "    return(x)"
      ]
    },
    {
      "cell_type": "code",
      "execution_count": null,
      "metadata": {
        "id": "q3AbQDmOeI6H"
      },
      "outputs": [],
      "source": [
        "df2V['Height'] = df2V['Height'].apply(clean_Height2).astype('float')\n",
        "df2V['Height'] = pd.to_numeric(df2V['Height'])\n",
        "df2V['Height'] = df2V['Height']*30.48"
      ]
    },
    {
      "cell_type": "markdown",
      "metadata": {
        "id": "Z6fWrpU1eI6K"
      },
      "source": [
        "#### Weight"
      ]
    },
    {
      "cell_type": "code",
      "execution_count": null,
      "metadata": {
        "id": "uy0DvT7HbAcP"
      },
      "outputs": [],
      "source": [
        "def clean_Weight2(x):\n",
        "    \n",
        "    if isinstance(x, str):\n",
        "        return(x.replace(\"lbs\", '.'))\n",
        "    return(x)"
      ]
    },
    {
      "cell_type": "code",
      "execution_count": null,
      "metadata": {
        "id": "SSyskfYBeI6L"
      },
      "outputs": [],
      "source": [
        "df2V['Weight'] = df2V['Weight'].apply(clean_Weight2).astype('float')\n",
        "df2V['Weight'] = pd.to_numeric(df2V['Weight'])\n"
      ]
    },
    {
      "cell_type": "code",
      "execution_count": null,
      "metadata": {
        "id": "HEx5wB0xeI6N"
      },
      "outputs": [],
      "source": [
        "df2V.shape"
      ]
    },
    {
      "cell_type": "markdown",
      "metadata": {
        "id": "L5vhS5b1eI6O"
      },
      "source": [
        "### Renaming some columns' name and adding units"
      ]
    },
    {
      "cell_type": "code",
      "execution_count": null,
      "metadata": {
        "id": "L4oF8RrNeI6P"
      },
      "outputs": [],
      "source": [
        "df2V=df2V.rename(columns={'Wage':'Wage(K€)', 'Height':'Height(cm)','Weight':'Weight(lbs)'})"
      ]
    },
    {
      "cell_type": "markdown",
      "metadata": {
        "id": "DtMEg173eI6Q"
      },
      "source": [
        "### Dividing dataset to numeric and non-numeric columns"
      ]
    },
    {
      "cell_type": "markdown",
      "metadata": {
        "id": "YnfbTPrbeI6S"
      },
      "source": [
        "### Numerical part"
      ]
    },
    {
      "cell_type": "code",
      "execution_count": null,
      "metadata": {
        "id": "fbif0YaxeI6S"
      },
      "outputs": [],
      "source": [
        "df2n=df2V.select_dtypes(include=[np.number])\n",
        "df2n.columns"
      ]
    },
    {
      "cell_type": "code",
      "execution_count": null,
      "metadata": {
        "id": "UiGb511teI6U"
      },
      "outputs": [],
      "source": [
        "df2l=df2V[['Club','Name']]\n",
        "#df2l"
      ]
    },
    {
      "cell_type": "code",
      "execution_count": null,
      "metadata": {
        "id": "tn9E771yeI6U"
      },
      "outputs": [],
      "source": [
        "# The final data set with just numerical parameters\n",
        "df2nf=pd.concat([df2l,df2n],axis=1).reindex(df2l.index)\n",
        "#df2nf"
      ]
    },
    {
      "cell_type": "markdown",
      "metadata": {
        "id": "eEn8iKJ8eI6e"
      },
      "source": [
        "#### Making list of columns' name"
      ]
    },
    {
      "cell_type": "code",
      "execution_count": null,
      "metadata": {
        "id": "LVYtHl8feI6f"
      },
      "outputs": [],
      "source": [
        "#List for Club Selection\n",
        "clubs_list2 = list(df2nf['Club'])\n",
        "#print(clubs_list2)"
      ]
    },
    {
      "cell_type": "code",
      "execution_count": null,
      "metadata": {
        "id": "_eeDQ-teeI6h"
      },
      "outputs": [],
      "source": [
        "#list for numerical patameter selection\n",
        "columns_list2=list(df2n.columns)\n",
        "print(columns_list2)"
      ]
    },
    {
      "cell_type": "markdown",
      "metadata": {
        "id": "ZzB8WXEFeI6u"
      },
      "source": [
        "## The main Part"
      ]
    },
    {
      "cell_type": "markdown",
      "metadata": {
        "id": "kG3EfLbfeI6w"
      },
      "source": [
        "### Widget for selecting the Club"
      ]
    },
    {
      "cell_type": "code",
      "execution_count": null,
      "metadata": {
        "id": "bzvH6Wv_eI6w"
      },
      "outputs": [],
      "source": [
        "# Selcting a Clube Name by user\n",
        "from ipywidgets import interact\n",
        "\n",
        "\n",
        "myvar2 = ''\n",
        "def show_df2(Club_Name2):\n",
        "    global myvar2\n",
        "    myvar2 = Club_Name2\n",
        "    \n",
        "    df2f=df2nf[df2nf.Club==Club_Name2]\n",
        "    \n",
        "    print(df2f)\n",
        "    \n",
        "print('Select a Club( it will take some time ;)) ')\n",
        "interact(show_df2, Club_Name2 = df2nf['Club'])\n"
      ]
    },
    {
      "cell_type": "markdown",
      "metadata": {
        "id": "7Raok256eI6y"
      },
      "source": [
        "### Widget for selecting a Parameter + Plot"
      ]
    },
    {
      "cell_type": "code",
      "execution_count": null,
      "metadata": {
        "id": "UlTO1OgdeI6y"
      },
      "outputs": [],
      "source": [
        "df2f=df2nf[df2nf.Club==myvar2]\n",
        "df2f\n",
        "print('Pleas select a parameter:')\n",
        "from ipywidgets import interact\n",
        "\n",
        "myvar22 = ''\n",
        "def show_df2(parameter2):\n",
        "    global myvar22\n",
        "    myvar22 = parameter2\n",
        "    \n",
        "\n",
        "    df2f2=df2f[['Club','Name',parameter2]]\n",
        "    df2f2 = df2f2.loc[df2f2[parameter2] != 0]\n",
        "\n",
        "    minValue2 = df2f2[parameter2].min()\n",
        "    \n",
        "\n",
        "    \n",
        "   \n",
        "    df2f2.sort_values(by=parameter2).plot(x = \"Name\", y = parameter2, kind = \"bar\", figsize = (15,15) ,legend = True, ylim=minValue2)\n",
        "    \n",
        "    plt.show()\n",
        "    \n",
        "    \n",
        "\n",
        "interact(show_df2, parameter2 = columns_list2)\n",
        "print('THANK YOU!')"
      ]
    },
    {
      "cell_type": "markdown",
      "metadata": {
        "id": "I02tm_bjheh2"
      },
      "source": [
        "# ***Point 3***  of the Project:\n",
        "A visualization (possibly interactive) that compares the top 20 clubs in terms of the average overall value grouped by player position (goalkeeper, defensor, etc.).\n"
      ]
    },
    {
      "cell_type": "markdown",
      "metadata": {
        "id": "y5sP8pUiCavN"
      },
      "source": [
        "## Cleaning and Transform data "
      ]
    },
    {
      "cell_type": "markdown",
      "metadata": {
        "id": "DdYF5oPPPDNB"
      },
      "source": [
        " We remove rows with club and position name = `Na`"
      ]
    },
    {
      "cell_type": "code",
      "execution_count": 13,
      "metadata": {
        "id": "S2G0taFFH9IM"
      },
      "outputs": [],
      "source": [
        "def cleaning_data_3(df_data):\n",
        "  df_copy = df_data.copy()\n",
        "  df_copy = df_copy.rename(columns={'Unnamed: 0' : 'Index'})\n",
        "\n",
        "  print(\"number of rows BEFORE some cleaning: \" + \n",
        "        str(df_copy.shape[0]))\n",
        "  #remove rows with team with less than 11 players\n",
        "  df_only_clubs = df_copy.filter(['Club', 'Index'])\n",
        "  df_only_clubs_countrows = df_only_clubs.groupby(['Club'],\n",
        "                                                as_index=False).count()\n",
        " \n",
        "  df_copy = df_copy.dropna(subset=['Position', 'Club'])\n",
        "  print(\"number of rows AFTER cleaning Na values in\"\n",
        "        + \" club and position \"+ str(len(df_copy.index)))\n",
        "  \n",
        "  return df_copy\n",
        "\n"
      ]
    },
    {
      "cell_type": "markdown",
      "metadata": {
        "id": "lKKDfEoNDMCc"
      },
      "source": [
        "Assign role create the column `Position_name` in order to have an easy way to reference the field position of a player\n",
        "\n",
        "\n",
        "Source for the name tag: https://coachingamericansoccer.com/tactics-and-teamwork/soccer-positions/\n",
        "\n"
      ]
    },
    {
      "cell_type": "code",
      "execution_count": 14,
      "metadata": {
        "id": "QE8ZfXJDDxwW"
      },
      "outputs": [],
      "source": [
        "goalkeeper = ['GK', 'G', 'K']\n",
        "defence = ['RWB', 'LWB', 'RB', 'LB', 'CB', 'CFB', 'RFB', 'LFB',\n",
        "           'RCB', 'LCB', 'TCB', 'CD','SW', 'OFB', 'OB']\n",
        "midfield = ['DM', 'LM', 'RM', 'CM', 'AM', 'CHB', 'RHB', 'LHB',\n",
        "            'HM', 'DM', 'CDM','PM','OM', 'WB', 'WM', 'RCM',\n",
        "            'LCM', 'RDM','LDM']\n",
        "attack = ['CF', 'RF', 'LF', 'ST', 'IF', 'RI', 'LI', 'RW', 'LW', \n",
        "          'CS', 'RCF', 'LCF', 'TCF', 'WF','SS', 'WS', 'RWS', 'LWS',\n",
        "          'LS', 'RAM', 'RS', 'CAM', 'LAM']"
      ]
    },
    {
      "cell_type": "code",
      "execution_count": 15,
      "metadata": {
        "id": "e3-ROkRRCWES"
      },
      "outputs": [],
      "source": [
        "pd.set_option('mode.chained_assignment', None)\n",
        "\n",
        "def assign_role(data):\n",
        "  df = data.copy()\n",
        "  df['Position_name'] = ''\n",
        "  df_goalkeeper = df.loc[df[\"Position\"].isin(goalkeeper)]\n",
        "  df_defence = df.loc[df[\"Position\"].isin(defence)]\n",
        "  df_midfield = df.loc[df[\"Position\"].isin(midfield)]\n",
        "  df_attack = df.loc[df[\"Position\"].isin(attack)]\n",
        "\n",
        "  df_goalkeeper.loc[:, 'Position_name'] = df_goalkeeper['Position_name'].apply(lambda x: 'Goalkeeper')\n",
        "\n",
        "  df_defence.loc[:, 'Position_name'] = df_defence['Position_name'].apply(lambda x: 'Defensor')\n",
        "  df_midfield.loc[:, 'Position_name'] = df_midfield['Position_name'].apply(lambda x: 'Midfielder')\n",
        "  df_attack.loc[:, 'Position_name'] = df_attack['Position_name'].apply(lambda x: 'Forward')\n",
        "  df = [df_attack,df_goalkeeper, df_defence, df_midfield]\n",
        "  result = pd.concat(df)\n",
        "\n",
        "  return result\n",
        "\n",
        "# assign_role_V2(data)"
      ]
    },
    {
      "cell_type": "markdown",
      "metadata": {
        "id": "lzXqK2nOgnyO"
      },
      "source": [
        "## Init Data Structure"
      ]
    },
    {
      "cell_type": "code",
      "execution_count": 16,
      "metadata": {
        "colab": {
          "base_uri": "https://localhost:8080/",
          "height": 456
        },
        "id": "0wwuIbj1S2Nf",
        "outputId": "9988b86f-2789-4164-bd3b-65cf1dace1b1"
      },
      "outputs": [
        {
          "output_type": "stream",
          "name": "stdout",
          "text": [
            "number of rows BEFORE some cleaning: 18207\n",
            "number of rows AFTER cleaning Na values in club and position 17918\n"
          ]
        },
        {
          "output_type": "execute_result",
          "data": {
            "text/plain": [
              "   Index      ID               Name  Age  \\\n",
              "0      0  158023           L. Messi   31   \n",
              "1      1   20801  Cristiano Ronaldo   33   \n",
              "2      2  190871          Neymar Jr   26   \n",
              "5      5  183277          E. Hazard   27   \n",
              "7      7  176580          L. Suárez   31   \n",
              "\n",
              "                                            Photo Nationality  \\\n",
              "0  https://cdn.sofifa.org/players/4/19/158023.png   Argentina   \n",
              "1   https://cdn.sofifa.org/players/4/19/20801.png    Portugal   \n",
              "2  https://cdn.sofifa.org/players/4/19/190871.png      Brazil   \n",
              "5  https://cdn.sofifa.org/players/4/19/183277.png     Belgium   \n",
              "7  https://cdn.sofifa.org/players/4/19/176580.png     Uruguay   \n",
              "\n",
              "                                  Flag  Overall  Potential  \\\n",
              "0  https://cdn.sofifa.org/flags/52.png       94         94   \n",
              "1  https://cdn.sofifa.org/flags/38.png       94         94   \n",
              "2  https://cdn.sofifa.org/flags/54.png       92         93   \n",
              "5   https://cdn.sofifa.org/flags/7.png       91         91   \n",
              "7  https://cdn.sofifa.org/flags/60.png       91         91   \n",
              "\n",
              "                  Club  ... Marking StandingTackle SlidingTackle  GKDiving  \\\n",
              "0         FC Barcelona  ...    33.0           28.0          26.0       6.0   \n",
              "1             Juventus  ...    28.0           31.0          23.0       7.0   \n",
              "2  Paris Saint-Germain  ...    27.0           24.0          33.0       9.0   \n",
              "5              Chelsea  ...    34.0           27.0          22.0      11.0   \n",
              "7         FC Barcelona  ...    62.0           45.0          38.0      27.0   \n",
              "\n",
              "  GKHandling  GKKicking  GKPositioning  GKReflexes Release Clause  \\\n",
              "0       11.0       15.0           14.0         8.0        €226.5M   \n",
              "1       11.0       15.0           14.0        11.0        €127.1M   \n",
              "2        9.0       15.0           15.0        11.0        €228.1M   \n",
              "5       12.0        6.0            8.0         8.0        €172.1M   \n",
              "7       25.0       31.0           33.0        37.0          €164M   \n",
              "\n",
              "  Position_name  \n",
              "0       Forward  \n",
              "1       Forward  \n",
              "2       Forward  \n",
              "5       Forward  \n",
              "7       Forward  \n",
              "\n",
              "[5 rows x 90 columns]"
            ],
            "text/html": [
              "\n",
              "  <div id=\"df-8809d7fc-814b-4e58-91f8-d1e43af8e82a\">\n",
              "    <div class=\"colab-df-container\">\n",
              "      <div>\n",
              "<style scoped>\n",
              "    .dataframe tbody tr th:only-of-type {\n",
              "        vertical-align: middle;\n",
              "    }\n",
              "\n",
              "    .dataframe tbody tr th {\n",
              "        vertical-align: top;\n",
              "    }\n",
              "\n",
              "    .dataframe thead th {\n",
              "        text-align: right;\n",
              "    }\n",
              "</style>\n",
              "<table border=\"1\" class=\"dataframe\">\n",
              "  <thead>\n",
              "    <tr style=\"text-align: right;\">\n",
              "      <th></th>\n",
              "      <th>Index</th>\n",
              "      <th>ID</th>\n",
              "      <th>Name</th>\n",
              "      <th>Age</th>\n",
              "      <th>Photo</th>\n",
              "      <th>Nationality</th>\n",
              "      <th>Flag</th>\n",
              "      <th>Overall</th>\n",
              "      <th>Potential</th>\n",
              "      <th>Club</th>\n",
              "      <th>...</th>\n",
              "      <th>Marking</th>\n",
              "      <th>StandingTackle</th>\n",
              "      <th>SlidingTackle</th>\n",
              "      <th>GKDiving</th>\n",
              "      <th>GKHandling</th>\n",
              "      <th>GKKicking</th>\n",
              "      <th>GKPositioning</th>\n",
              "      <th>GKReflexes</th>\n",
              "      <th>Release Clause</th>\n",
              "      <th>Position_name</th>\n",
              "    </tr>\n",
              "  </thead>\n",
              "  <tbody>\n",
              "    <tr>\n",
              "      <th>0</th>\n",
              "      <td>0</td>\n",
              "      <td>158023</td>\n",
              "      <td>L. Messi</td>\n",
              "      <td>31</td>\n",
              "      <td>https://cdn.sofifa.org/players/4/19/158023.png</td>\n",
              "      <td>Argentina</td>\n",
              "      <td>https://cdn.sofifa.org/flags/52.png</td>\n",
              "      <td>94</td>\n",
              "      <td>94</td>\n",
              "      <td>FC Barcelona</td>\n",
              "      <td>...</td>\n",
              "      <td>33.0</td>\n",
              "      <td>28.0</td>\n",
              "      <td>26.0</td>\n",
              "      <td>6.0</td>\n",
              "      <td>11.0</td>\n",
              "      <td>15.0</td>\n",
              "      <td>14.0</td>\n",
              "      <td>8.0</td>\n",
              "      <td>€226.5M</td>\n",
              "      <td>Forward</td>\n",
              "    </tr>\n",
              "    <tr>\n",
              "      <th>1</th>\n",
              "      <td>1</td>\n",
              "      <td>20801</td>\n",
              "      <td>Cristiano Ronaldo</td>\n",
              "      <td>33</td>\n",
              "      <td>https://cdn.sofifa.org/players/4/19/20801.png</td>\n",
              "      <td>Portugal</td>\n",
              "      <td>https://cdn.sofifa.org/flags/38.png</td>\n",
              "      <td>94</td>\n",
              "      <td>94</td>\n",
              "      <td>Juventus</td>\n",
              "      <td>...</td>\n",
              "      <td>28.0</td>\n",
              "      <td>31.0</td>\n",
              "      <td>23.0</td>\n",
              "      <td>7.0</td>\n",
              "      <td>11.0</td>\n",
              "      <td>15.0</td>\n",
              "      <td>14.0</td>\n",
              "      <td>11.0</td>\n",
              "      <td>€127.1M</td>\n",
              "      <td>Forward</td>\n",
              "    </tr>\n",
              "    <tr>\n",
              "      <th>2</th>\n",
              "      <td>2</td>\n",
              "      <td>190871</td>\n",
              "      <td>Neymar Jr</td>\n",
              "      <td>26</td>\n",
              "      <td>https://cdn.sofifa.org/players/4/19/190871.png</td>\n",
              "      <td>Brazil</td>\n",
              "      <td>https://cdn.sofifa.org/flags/54.png</td>\n",
              "      <td>92</td>\n",
              "      <td>93</td>\n",
              "      <td>Paris Saint-Germain</td>\n",
              "      <td>...</td>\n",
              "      <td>27.0</td>\n",
              "      <td>24.0</td>\n",
              "      <td>33.0</td>\n",
              "      <td>9.0</td>\n",
              "      <td>9.0</td>\n",
              "      <td>15.0</td>\n",
              "      <td>15.0</td>\n",
              "      <td>11.0</td>\n",
              "      <td>€228.1M</td>\n",
              "      <td>Forward</td>\n",
              "    </tr>\n",
              "    <tr>\n",
              "      <th>5</th>\n",
              "      <td>5</td>\n",
              "      <td>183277</td>\n",
              "      <td>E. Hazard</td>\n",
              "      <td>27</td>\n",
              "      <td>https://cdn.sofifa.org/players/4/19/183277.png</td>\n",
              "      <td>Belgium</td>\n",
              "      <td>https://cdn.sofifa.org/flags/7.png</td>\n",
              "      <td>91</td>\n",
              "      <td>91</td>\n",
              "      <td>Chelsea</td>\n",
              "      <td>...</td>\n",
              "      <td>34.0</td>\n",
              "      <td>27.0</td>\n",
              "      <td>22.0</td>\n",
              "      <td>11.0</td>\n",
              "      <td>12.0</td>\n",
              "      <td>6.0</td>\n",
              "      <td>8.0</td>\n",
              "      <td>8.0</td>\n",
              "      <td>€172.1M</td>\n",
              "      <td>Forward</td>\n",
              "    </tr>\n",
              "    <tr>\n",
              "      <th>7</th>\n",
              "      <td>7</td>\n",
              "      <td>176580</td>\n",
              "      <td>L. Suárez</td>\n",
              "      <td>31</td>\n",
              "      <td>https://cdn.sofifa.org/players/4/19/176580.png</td>\n",
              "      <td>Uruguay</td>\n",
              "      <td>https://cdn.sofifa.org/flags/60.png</td>\n",
              "      <td>91</td>\n",
              "      <td>91</td>\n",
              "      <td>FC Barcelona</td>\n",
              "      <td>...</td>\n",
              "      <td>62.0</td>\n",
              "      <td>45.0</td>\n",
              "      <td>38.0</td>\n",
              "      <td>27.0</td>\n",
              "      <td>25.0</td>\n",
              "      <td>31.0</td>\n",
              "      <td>33.0</td>\n",
              "      <td>37.0</td>\n",
              "      <td>€164M</td>\n",
              "      <td>Forward</td>\n",
              "    </tr>\n",
              "  </tbody>\n",
              "</table>\n",
              "<p>5 rows × 90 columns</p>\n",
              "</div>\n",
              "      <button class=\"colab-df-convert\" onclick=\"convertToInteractive('df-8809d7fc-814b-4e58-91f8-d1e43af8e82a')\"\n",
              "              title=\"Convert this dataframe to an interactive table.\"\n",
              "              style=\"display:none;\">\n",
              "        \n",
              "  <svg xmlns=\"http://www.w3.org/2000/svg\" height=\"24px\"viewBox=\"0 0 24 24\"\n",
              "       width=\"24px\">\n",
              "    <path d=\"M0 0h24v24H0V0z\" fill=\"none\"/>\n",
              "    <path d=\"M18.56 5.44l.94 2.06.94-2.06 2.06-.94-2.06-.94-.94-2.06-.94 2.06-2.06.94zm-11 1L8.5 8.5l.94-2.06 2.06-.94-2.06-.94L8.5 2.5l-.94 2.06-2.06.94zm10 10l.94 2.06.94-2.06 2.06-.94-2.06-.94-.94-2.06-.94 2.06-2.06.94z\"/><path d=\"M17.41 7.96l-1.37-1.37c-.4-.4-.92-.59-1.43-.59-.52 0-1.04.2-1.43.59L10.3 9.45l-7.72 7.72c-.78.78-.78 2.05 0 2.83L4 21.41c.39.39.9.59 1.41.59.51 0 1.02-.2 1.41-.59l7.78-7.78 2.81-2.81c.8-.78.8-2.07 0-2.86zM5.41 20L4 18.59l7.72-7.72 1.47 1.35L5.41 20z\"/>\n",
              "  </svg>\n",
              "      </button>\n",
              "      \n",
              "  <style>\n",
              "    .colab-df-container {\n",
              "      display:flex;\n",
              "      flex-wrap:wrap;\n",
              "      gap: 12px;\n",
              "    }\n",
              "\n",
              "    .colab-df-convert {\n",
              "      background-color: #E8F0FE;\n",
              "      border: none;\n",
              "      border-radius: 50%;\n",
              "      cursor: pointer;\n",
              "      display: none;\n",
              "      fill: #1967D2;\n",
              "      height: 32px;\n",
              "      padding: 0 0 0 0;\n",
              "      width: 32px;\n",
              "    }\n",
              "\n",
              "    .colab-df-convert:hover {\n",
              "      background-color: #E2EBFA;\n",
              "      box-shadow: 0px 1px 2px rgba(60, 64, 67, 0.3), 0px 1px 3px 1px rgba(60, 64, 67, 0.15);\n",
              "      fill: #174EA6;\n",
              "    }\n",
              "\n",
              "    [theme=dark] .colab-df-convert {\n",
              "      background-color: #3B4455;\n",
              "      fill: #D2E3FC;\n",
              "    }\n",
              "\n",
              "    [theme=dark] .colab-df-convert:hover {\n",
              "      background-color: #434B5C;\n",
              "      box-shadow: 0px 1px 3px 1px rgba(0, 0, 0, 0.15);\n",
              "      filter: drop-shadow(0px 1px 2px rgba(0, 0, 0, 0.3));\n",
              "      fill: #FFFFFF;\n",
              "    }\n",
              "  </style>\n",
              "\n",
              "      <script>\n",
              "        const buttonEl =\n",
              "          document.querySelector('#df-8809d7fc-814b-4e58-91f8-d1e43af8e82a button.colab-df-convert');\n",
              "        buttonEl.style.display =\n",
              "          google.colab.kernel.accessAllowed ? 'block' : 'none';\n",
              "\n",
              "        async function convertToInteractive(key) {\n",
              "          const element = document.querySelector('#df-8809d7fc-814b-4e58-91f8-d1e43af8e82a');\n",
              "          const dataTable =\n",
              "            await google.colab.kernel.invokeFunction('convertToInteractive',\n",
              "                                                     [key], {});\n",
              "          if (!dataTable) return;\n",
              "\n",
              "          const docLinkHtml = 'Like what you see? Visit the ' +\n",
              "            '<a target=\"_blank\" href=https://colab.research.google.com/notebooks/data_table.ipynb>data table notebook</a>'\n",
              "            + ' to learn more about interactive tables.';\n",
              "          element.innerHTML = '';\n",
              "          dataTable['output_type'] = 'display_data';\n",
              "          await google.colab.output.renderOutput(dataTable, element);\n",
              "          const docLink = document.createElement('div');\n",
              "          docLink.innerHTML = docLinkHtml;\n",
              "          element.appendChild(docLink);\n",
              "        }\n",
              "      </script>\n",
              "    </div>\n",
              "  </div>\n",
              "  "
            ]
          },
          "metadata": {},
          "execution_count": 16
        }
      ],
      "source": [
        " \n",
        "##### INIT #####\n",
        "data_3 = fifa19_dataset.copy()\n",
        "data_3 = create_datastructures()\n",
        "data_3 = cleaning_data_3(data_3)\n",
        "data_3 = assign_role(data_3) \n",
        "################\n",
        "data_3.head()"
      ]
    },
    {
      "cell_type": "markdown",
      "metadata": {
        "id": "pKcQYpj9Ecem"
      },
      "source": [
        "## Useful functions:\n",
        "\n",
        "* *`leaderboard_index`* is an utility function to get a nice visualization of leaderboard index\n",
        "* *`clubs_overall_mean`* returns a mean of the   overall value of all players. It **doesn't consider** the Position \n",
        "* *`clubs_overall_mean_by_position`* returns a tuple:\n",
        "    * First element is a dataframe with the mean of the overall value of roles  *(defence, attack...)* for every team\n",
        "    * Second element is a dataframe with the mean of overall value and this considers player position\n"
      ]
    },
    {
      "cell_type": "code",
      "execution_count": 17,
      "metadata": {
        "id": "XMuwUjXyEVti"
      },
      "outputs": [],
      "source": [
        "def leaderboard_index(df):\n",
        "  df.reset_index(inplace=True, drop=True)\n",
        "  df.index = df.index +1"
      ]
    },
    {
      "cell_type": "code",
      "execution_count": 18,
      "metadata": {
        "id": "0nyR-Y5eS4QF"
      },
      "outputs": [],
      "source": [
        "def clubs_overall_mean(df):\n",
        "  df_clubs_overall = df.filter(['Club', 'Overall'])\n",
        "\n",
        "  df_clubs = df_clubs_overall.groupby(['Club'], as_index=False).mean()\n",
        "  leaderboard_index(df_clubs)\n",
        "  return df_clubs\n",
        "\n",
        "\n"
      ]
    },
    {
      "cell_type": "code",
      "execution_count": 19,
      "metadata": {
        "id": "B4GgvD_FC1le"
      },
      "outputs": [],
      "source": [
        "def clubs_overall_mean_by_position(df):\n",
        "  df_clubs_overall_position = df.filter([ 'Club', 'Overall', 'Position_name' ])\n",
        "  \n",
        "\n",
        "  df_clubs_position_mean  = df_clubs_overall_position.groupby(['Club', 'Position_name'], as_index=False).mean()\n",
        "  df_clubs_position_mean_V2  = df_clubs_position_mean.groupby(['Club'],  as_index=False).mean() \n",
        "  df_clubs_position_mean_V2.sort_values('Overall', ascending=False,\n",
        "                                        inplace = True)\n",
        "  \n",
        "\n",
        "  leaderboard_index(df_clubs_position_mean)\n",
        "  leaderboard_index(df_clubs_position_mean_V2)                                                       \n",
        "  return df_clubs_position_mean,df_clubs_position_mean_V2  "
      ]
    },
    {
      "cell_type": "markdown",
      "metadata": {
        "id": "UVsOqqpMQPOf"
      },
      "source": [
        "## Leaderboard of the first 20 club with a **SIMPLE MEAN**"
      ]
    },
    {
      "cell_type": "markdown",
      "metadata": {
        "id": "Y0I3C_ickT1u"
      },
      "source": [
        "`Simple mean`: mean computed without considering the different fields of the players *(goalkeeper, defence, midfield and attack)*"
      ]
    },
    {
      "cell_type": "code",
      "execution_count": 20,
      "metadata": {
        "colab": {
          "base_uri": "https://localhost:8080/"
        },
        "id": "qpE5iUjlhHlQ",
        "outputId": "61788257-2680-4fa7-e5c7-5286d8992f89"
      },
      "outputs": [
        {
          "output_type": "stream",
          "name": "stdout",
          "text": [
            "First 20 clubs WITH simple mean.\n",
            "\n",
            "                   Club    Overall\n",
            "0              Juventus  82.280000\n",
            "1                Napoli  80.000000\n",
            "2                 Inter  79.750000\n",
            "3           Real Madrid  78.242424\n",
            "4                 Milan  78.074074\n",
            "5          FC Barcelona  78.030303\n",
            "6   Paris Saint-Germain  77.433333\n",
            "7                  Roma  77.423077\n",
            "8     Manchester United  77.242424\n",
            "10           SL Benfica  77.000000\n",
            "9     FC Bayern München  77.000000\n",
            "11              Chelsea  76.787879\n",
            "12      Manchester City  76.727273\n",
            "13    Tottenham Hotspur  76.696970\n",
            "14             FC Porto  76.678571\n",
            "15          Sporting CP  76.133333\n",
            "16            Liverpool  76.000000\n",
            "17  Bayer 04 Leverkusen  75.807692\n",
            "18                Lazio  75.437500\n",
            "19    Borussia Dortmund  75.333333\n"
          ]
        }
      ],
      "source": [
        "#### MEAN OF OVERALL VALUE OF EVERY CLUBS ####\n",
        "data_clubs_mean_V1 = clubs_overall_mean(data_3)\n",
        "data_clubs_mean_V1.sort_values('Overall', ascending=False, inplace=True)\n",
        "data_clubs_mean_V1.reset_index(inplace=True,drop=True)\n",
        "\n",
        "i=20\n",
        "print(\"First \" + str(i) + \" clubs WITH simple mean.\\n\")\n",
        "print(data_clubs_mean_V1.sort_values('Overall', ascending=False)[:i])\n",
        "##############################################\n",
        "\n"
      ]
    },
    {
      "cell_type": "markdown",
      "metadata": {
        "id": "wsvR9nF0Qwa5"
      },
      "source": [
        "## Leaderboard of the first 20 club with a **COMPLEX MEAN**"
      ]
    },
    {
      "cell_type": "markdown",
      "metadata": {
        "id": "FEqX-kqbkcRd"
      },
      "source": [
        "`Complex mean`: mean that takes takes into account the different fields of the players *(goalkeeper, defence, midfield and attack)*"
      ]
    },
    {
      "cell_type": "code",
      "execution_count": 21,
      "metadata": {
        "colab": {
          "base_uri": "https://localhost:8080/"
        },
        "id": "ufyklnrJhJfq",
        "outputId": "ddaba515-0040-43ed-f345-854dd7c80777"
      },
      "outputs": [
        {
          "output_type": "stream",
          "name": "stdout",
          "text": [
            "First 20 clubs WITH more complex mean.\n",
            "\n",
            "                   Club    Overall\n",
            "1              Juventus  82.212500\n",
            "2                Napoli  79.744048\n",
            "3                 Inter  79.239286\n",
            "4           Real Madrid  78.702381\n",
            "5     Manchester United  78.007323\n",
            "6                 Milan  77.845833\n",
            "7          FC Barcelona  77.370455\n",
            "8   Paris Saint-Germain  77.366667\n",
            "9                  Roma  77.065476\n",
            "10    FC Bayern München  76.804167\n",
            "11    Tottenham Hotspur  76.466270\n",
            "12           SL Benfica  76.308333\n",
            "13              Arsenal  76.198810\n",
            "14              Chelsea  76.111742\n",
            "15             FC Porto  76.036111\n",
            "16          Sporting CP  75.978175\n",
            "17      Manchester City  75.711310\n",
            "18            Liverpool  75.638889\n",
            "19      Atlético Madrid  75.215909\n",
            "20  Bayer 04 Leverkusen  75.197917\n"
          ]
        }
      ],
      "source": [
        "#### MEAN OF OVERALL VALUE OF EVERY CLUBS \n",
        "#### WITH THE CONTRIBUTE OF ATTACK, DEFENCE etc ####\n",
        "\n",
        "\n",
        "data_fields,data_clubs_mean_V2 = clubs_overall_mean_by_position(data_3)\n",
        "data_clubs_mean_V2.sort_values('Overall', ascending=False, inplace=True)\n",
        "data_fields = data_fields.sort_values('Overall', ascending=False)\n",
        "leaderboard_index(data_clubs_mean_V2)\n",
        "i=20\n",
        "print(\"First \" + str(i) + \" clubs WITH more complex mean.\\n\")\n",
        "print(data_clubs_mean_V2[:i])\n",
        "#########################################################\n"
      ]
    },
    {
      "cell_type": "markdown",
      "metadata": {
        "id": "SIYI4rEoGfjt"
      },
      "source": [
        "## Functions that define some statistics:\n",
        "1. Mean of every fields (attack, defence,...) of the first 20 top club\n",
        "1. Average age\n",
        "1. Nationality\n",
        "1. Potential growth:\n",
        ">4.1 Mean of the *potential* value, not overall</br>\n",
        ">4.2 Gain of positions in case of potential leaderboard</br>\n",
        "\n",
        "1. The most faithful players\n"
      ]
    },
    {
      "cell_type": "markdown",
      "metadata": {
        "id": "JbKaYavfR2HG"
      },
      "source": [
        "### Point 1"
      ]
    },
    {
      "cell_type": "code",
      "execution_count": 22,
      "metadata": {
        "colab": {
          "base_uri": "https://localhost:8080/"
        },
        "id": "ytBs-Vr3_J_A",
        "outputId": "e1bd9a40-c3df-473d-edff-8c6c6d6a2b68"
      },
      "outputs": [
        {
          "output_type": "execute_result",
          "data": {
            "text/plain": [
              "['Juventus',\n",
              " 'Napoli',\n",
              " 'Inter',\n",
              " 'Real Madrid',\n",
              " 'Manchester United',\n",
              " 'Milan',\n",
              " 'FC Barcelona',\n",
              " 'Paris Saint-Germain',\n",
              " 'Roma',\n",
              " 'FC Bayern München',\n",
              " 'Tottenham Hotspur',\n",
              " 'SL Benfica',\n",
              " 'Arsenal',\n",
              " 'Chelsea',\n",
              " 'FC Porto',\n",
              " 'Sporting CP',\n",
              " 'Manchester City',\n",
              " 'Liverpool',\n",
              " 'Atlético Madrid',\n",
              " 'Bayer 04 Leverkusen']"
            ]
          },
          "metadata": {},
          "execution_count": 22
        }
      ],
      "source": [
        "clubs = list(data_clubs_mean_V2['Club'])\n",
        "clubs_top_20=clubs[:20]\n",
        "clubs_top_20"
      ]
    },
    {
      "cell_type": "code",
      "execution_count": 23,
      "metadata": {
        "colab": {
          "base_uri": "https://localhost:8080/"
        },
        "id": "-_tf8aHWbyzg",
        "outputId": "66a465f3-9ea0-499b-9cac-cf5086af61ca"
      },
      "outputs": [
        {
          "output_type": "stream",
          "name": "stdout",
          "text": [
            "--------------------------------------------------\n",
            "first 20 club divided by attack, defence etc:\n",
            "\n",
            "                     Club Position_name    Overall\n",
            "1306             Juventus       Forward  84.600000\n",
            "1262                Inter       Forward  82.600000\n",
            "1308             Juventus    Midfielder  82.250000\n",
            "858     FC Bayern München       Forward  81.800000\n",
            "1503    Manchester United    Goalkeeper  81.666667\n",
            "...                   ...           ...        ...\n",
            "2019           SL Benfica    Goalkeeper  72.333333\n",
            "291   Bayer 04 Leverkusen    Goalkeeper  71.750000\n",
            "539               Chelsea    Goalkeeper  71.750000\n",
            "1499      Manchester City    Goalkeeper  69.750000\n",
            "246       Atlético Madrid       Forward  69.500000\n",
            "\n",
            "[80 rows x 3 columns]\n"
          ]
        }
      ],
      "source": [
        "\"\"\" POINT 1 \"\"\"\n",
        "# here I create a DataFrame of 20 clubs \n",
        "# with the overall of their attack, defence etc\n",
        "\n",
        "data_field_20_club = data_fields.loc[data_fields['Club'].isin(clubs_top_20)]\n",
        "print(\"-\"*50)\n",
        "print(\"first 20 club divided by attack, defence etc:\")\n",
        "print()\n",
        "print(data_field_20_club)\n",
        "clubs_to_check = set(data_field_20_club['Club'])\n",
        "\n",
        "assert sorted(clubs_top_20) == sorted(clubs_to_check)"
      ]
    },
    {
      "cell_type": "markdown",
      "metadata": {
        "id": "516CK1wOScwp"
      },
      "source": [
        "### Point 2. Leaderboard of the top 20 clubs ordered by the average age of the players"
      ]
    },
    {
      "cell_type": "code",
      "execution_count": 24,
      "metadata": {
        "colab": {
          "base_uri": "https://localhost:8080/",
          "height": 676
        },
        "id": "ICaa45z2b6Tg",
        "outputId": "b9b44b56-bc00-4942-8972-7cb73fa05c0d"
      },
      "outputs": [
        {
          "output_type": "execute_result",
          "data": {
            "text/plain": [
              "                   Club        Age\n",
              "1                 Inter  27.458333\n",
              "2              Juventus  27.160000\n",
              "3           Sporting CP  26.133333\n",
              "4                Napoli  25.920000\n",
              "5                  Roma  25.653846\n",
              "6               Chelsea  25.212121\n",
              "7                 Milan  25.000000\n",
              "8              FC Porto  24.964286\n",
              "9     Manchester United  24.757576\n",
              "10              Arsenal  24.606061\n",
              "11    Tottenham Hotspur  24.606061\n",
              "12  Paris Saint-Germain  24.566667\n",
              "13           SL Benfica  24.500000\n",
              "14  Bayer 04 Leverkusen  24.346154\n",
              "15    FC Bayern München  24.310345\n",
              "16          Real Madrid  24.030303\n",
              "17            Liverpool  24.000000\n",
              "18      Manchester City  23.909091\n",
              "19         FC Barcelona  23.848485\n",
              "20      Atlético Madrid  23.757576"
            ],
            "text/html": [
              "\n",
              "  <div id=\"df-dec7ca2d-8885-4e2c-845e-66025e33053b\">\n",
              "    <div class=\"colab-df-container\">\n",
              "      <div>\n",
              "<style scoped>\n",
              "    .dataframe tbody tr th:only-of-type {\n",
              "        vertical-align: middle;\n",
              "    }\n",
              "\n",
              "    .dataframe tbody tr th {\n",
              "        vertical-align: top;\n",
              "    }\n",
              "\n",
              "    .dataframe thead th {\n",
              "        text-align: right;\n",
              "    }\n",
              "</style>\n",
              "<table border=\"1\" class=\"dataframe\">\n",
              "  <thead>\n",
              "    <tr style=\"text-align: right;\">\n",
              "      <th></th>\n",
              "      <th>Club</th>\n",
              "      <th>Age</th>\n",
              "    </tr>\n",
              "  </thead>\n",
              "  <tbody>\n",
              "    <tr>\n",
              "      <th>1</th>\n",
              "      <td>Inter</td>\n",
              "      <td>27.458333</td>\n",
              "    </tr>\n",
              "    <tr>\n",
              "      <th>2</th>\n",
              "      <td>Juventus</td>\n",
              "      <td>27.160000</td>\n",
              "    </tr>\n",
              "    <tr>\n",
              "      <th>3</th>\n",
              "      <td>Sporting CP</td>\n",
              "      <td>26.133333</td>\n",
              "    </tr>\n",
              "    <tr>\n",
              "      <th>4</th>\n",
              "      <td>Napoli</td>\n",
              "      <td>25.920000</td>\n",
              "    </tr>\n",
              "    <tr>\n",
              "      <th>5</th>\n",
              "      <td>Roma</td>\n",
              "      <td>25.653846</td>\n",
              "    </tr>\n",
              "    <tr>\n",
              "      <th>6</th>\n",
              "      <td>Chelsea</td>\n",
              "      <td>25.212121</td>\n",
              "    </tr>\n",
              "    <tr>\n",
              "      <th>7</th>\n",
              "      <td>Milan</td>\n",
              "      <td>25.000000</td>\n",
              "    </tr>\n",
              "    <tr>\n",
              "      <th>8</th>\n",
              "      <td>FC Porto</td>\n",
              "      <td>24.964286</td>\n",
              "    </tr>\n",
              "    <tr>\n",
              "      <th>9</th>\n",
              "      <td>Manchester United</td>\n",
              "      <td>24.757576</td>\n",
              "    </tr>\n",
              "    <tr>\n",
              "      <th>10</th>\n",
              "      <td>Arsenal</td>\n",
              "      <td>24.606061</td>\n",
              "    </tr>\n",
              "    <tr>\n",
              "      <th>11</th>\n",
              "      <td>Tottenham Hotspur</td>\n",
              "      <td>24.606061</td>\n",
              "    </tr>\n",
              "    <tr>\n",
              "      <th>12</th>\n",
              "      <td>Paris Saint-Germain</td>\n",
              "      <td>24.566667</td>\n",
              "    </tr>\n",
              "    <tr>\n",
              "      <th>13</th>\n",
              "      <td>SL Benfica</td>\n",
              "      <td>24.500000</td>\n",
              "    </tr>\n",
              "    <tr>\n",
              "      <th>14</th>\n",
              "      <td>Bayer 04 Leverkusen</td>\n",
              "      <td>24.346154</td>\n",
              "    </tr>\n",
              "    <tr>\n",
              "      <th>15</th>\n",
              "      <td>FC Bayern München</td>\n",
              "      <td>24.310345</td>\n",
              "    </tr>\n",
              "    <tr>\n",
              "      <th>16</th>\n",
              "      <td>Real Madrid</td>\n",
              "      <td>24.030303</td>\n",
              "    </tr>\n",
              "    <tr>\n",
              "      <th>17</th>\n",
              "      <td>Liverpool</td>\n",
              "      <td>24.000000</td>\n",
              "    </tr>\n",
              "    <tr>\n",
              "      <th>18</th>\n",
              "      <td>Manchester City</td>\n",
              "      <td>23.909091</td>\n",
              "    </tr>\n",
              "    <tr>\n",
              "      <th>19</th>\n",
              "      <td>FC Barcelona</td>\n",
              "      <td>23.848485</td>\n",
              "    </tr>\n",
              "    <tr>\n",
              "      <th>20</th>\n",
              "      <td>Atlético Madrid</td>\n",
              "      <td>23.757576</td>\n",
              "    </tr>\n",
              "  </tbody>\n",
              "</table>\n",
              "</div>\n",
              "      <button class=\"colab-df-convert\" onclick=\"convertToInteractive('df-dec7ca2d-8885-4e2c-845e-66025e33053b')\"\n",
              "              title=\"Convert this dataframe to an interactive table.\"\n",
              "              style=\"display:none;\">\n",
              "        \n",
              "  <svg xmlns=\"http://www.w3.org/2000/svg\" height=\"24px\"viewBox=\"0 0 24 24\"\n",
              "       width=\"24px\">\n",
              "    <path d=\"M0 0h24v24H0V0z\" fill=\"none\"/>\n",
              "    <path d=\"M18.56 5.44l.94 2.06.94-2.06 2.06-.94-2.06-.94-.94-2.06-.94 2.06-2.06.94zm-11 1L8.5 8.5l.94-2.06 2.06-.94-2.06-.94L8.5 2.5l-.94 2.06-2.06.94zm10 10l.94 2.06.94-2.06 2.06-.94-2.06-.94-.94-2.06-.94 2.06-2.06.94z\"/><path d=\"M17.41 7.96l-1.37-1.37c-.4-.4-.92-.59-1.43-.59-.52 0-1.04.2-1.43.59L10.3 9.45l-7.72 7.72c-.78.78-.78 2.05 0 2.83L4 21.41c.39.39.9.59 1.41.59.51 0 1.02-.2 1.41-.59l7.78-7.78 2.81-2.81c.8-.78.8-2.07 0-2.86zM5.41 20L4 18.59l7.72-7.72 1.47 1.35L5.41 20z\"/>\n",
              "  </svg>\n",
              "      </button>\n",
              "      \n",
              "  <style>\n",
              "    .colab-df-container {\n",
              "      display:flex;\n",
              "      flex-wrap:wrap;\n",
              "      gap: 12px;\n",
              "    }\n",
              "\n",
              "    .colab-df-convert {\n",
              "      background-color: #E8F0FE;\n",
              "      border: none;\n",
              "      border-radius: 50%;\n",
              "      cursor: pointer;\n",
              "      display: none;\n",
              "      fill: #1967D2;\n",
              "      height: 32px;\n",
              "      padding: 0 0 0 0;\n",
              "      width: 32px;\n",
              "    }\n",
              "\n",
              "    .colab-df-convert:hover {\n",
              "      background-color: #E2EBFA;\n",
              "      box-shadow: 0px 1px 2px rgba(60, 64, 67, 0.3), 0px 1px 3px 1px rgba(60, 64, 67, 0.15);\n",
              "      fill: #174EA6;\n",
              "    }\n",
              "\n",
              "    [theme=dark] .colab-df-convert {\n",
              "      background-color: #3B4455;\n",
              "      fill: #D2E3FC;\n",
              "    }\n",
              "\n",
              "    [theme=dark] .colab-df-convert:hover {\n",
              "      background-color: #434B5C;\n",
              "      box-shadow: 0px 1px 3px 1px rgba(0, 0, 0, 0.15);\n",
              "      filter: drop-shadow(0px 1px 2px rgba(0, 0, 0, 0.3));\n",
              "      fill: #FFFFFF;\n",
              "    }\n",
              "  </style>\n",
              "\n",
              "      <script>\n",
              "        const buttonEl =\n",
              "          document.querySelector('#df-dec7ca2d-8885-4e2c-845e-66025e33053b button.colab-df-convert');\n",
              "        buttonEl.style.display =\n",
              "          google.colab.kernel.accessAllowed ? 'block' : 'none';\n",
              "\n",
              "        async function convertToInteractive(key) {\n",
              "          const element = document.querySelector('#df-dec7ca2d-8885-4e2c-845e-66025e33053b');\n",
              "          const dataTable =\n",
              "            await google.colab.kernel.invokeFunction('convertToInteractive',\n",
              "                                                     [key], {});\n",
              "          if (!dataTable) return;\n",
              "\n",
              "          const docLinkHtml = 'Like what you see? Visit the ' +\n",
              "            '<a target=\"_blank\" href=https://colab.research.google.com/notebooks/data_table.ipynb>data table notebook</a>'\n",
              "            + ' to learn more about interactive tables.';\n",
              "          element.innerHTML = '';\n",
              "          dataTable['output_type'] = 'display_data';\n",
              "          await google.colab.output.renderOutput(dataTable, element);\n",
              "          const docLink = document.createElement('div');\n",
              "          docLink.innerHTML = docLinkHtml;\n",
              "          element.appendChild(docLink);\n",
              "        }\n",
              "      </script>\n",
              "    </div>\n",
              "  </div>\n",
              "  "
            ]
          },
          "metadata": {},
          "execution_count": 24
        }
      ],
      "source": [
        "\"\"\" POINT 2 \"\"\"\n",
        "def top20_clubs_age():\n",
        "  df_clubs_age = data_3.filter(['Club', 'Age'])\n",
        "  df_top20_clubs_age = df_clubs_age.loc[df_clubs_age['Club'].isin(clubs_top_20)]\n",
        "\n",
        "  df_top20_clubs_age_mean = df_top20_clubs_age.groupby(['Club'], as_index=False).mean()\n",
        "  df_top20_clubs_age_mean.sort_values('Age', ascending=False, inplace = True)\n",
        "  #print(df_top20_clubs_age_mean.loc[df_top20_clubs_age_mean['Club']=='Inter'])\n",
        "  #print(len(df_top20_clubs_age_mean.index)) # should be 20 \n",
        "  leaderboard_index(df_top20_clubs_age_mean)\n",
        "  return df_top20_clubs_age_mean\n",
        "\n",
        "top20_clubs_age()"
      ]
    },
    {
      "cell_type": "markdown",
      "metadata": {
        "id": "RXPHW-nVSzHx"
      },
      "source": [
        "### Point 3. Leaderboard of 20 top clubs respects to the max nationality present in the team"
      ]
    },
    {
      "cell_type": "code",
      "execution_count": 25,
      "metadata": {
        "colab": {
          "base_uri": "https://localhost:8080/",
          "height": 766
        },
        "id": "j8NxoBdNVU7V",
        "outputId": "c6ce290e-8ad8-4029-dec3-b2c1b783190c"
      },
      "outputs": [
        {
          "output_type": "stream",
          "name": "stdout",
          "text": [
            "Frequency of nationality in the top 20 clubs\n",
            "{'Spain': 14.789915966386555, 'England': 10.92436974789916, 'Brazil': 8.907563025210084, 'Italy': 8.907563025210084, 'France': 8.235294117647058, 'Germany': 7.0588235294117645, 'Portugal': 5.378151260504202, 'Argentina': 5.2100840336134455, 'Belgium': 2.689075630252101, 'Croatia': 2.689075630252101, 'Netherlands': 2.689075630252101, 'Uruguay': 1.8487394957983194, 'Poland': 1.3445378151260505, 'Serbia': 1.3445378151260505, 'Colombia': 1.1764705882352942, 'Greece': 1.1764705882352942, 'Wales': 0.8403361344537815, 'Chile': 0.8403361344537815, 'Switzerland': 0.8403361344537815, 'Senegal': 0.6722689075630253, 'Austria': 0.6722689075630253, 'Scotland': 0.6722689075630253, 'Nigeria': 0.6722689075630253, 'Algeria': 0.6722689075630253, 'Sweden': 0.5042016806722689, 'Ghana': 0.5042016806722689, 'Ivory Coast': 0.5042016806722689, 'Bosnia Herzegovina': 0.5042016806722689, 'Cameroon': 0.5042016806722689, 'Czech Republic': 0.5042016806722689, 'United States': 0.33613445378151263, 'Slovakia': 0.33613445378151263, 'Egypt': 0.33613445378151263, 'Mexico': 0.33613445378151263, 'Turkey': 0.33613445378151263, 'Slovenia': 0.33613445378151263, 'Denmark': 0.33613445378151263, 'Montenegro': 0.33613445378151263, 'Finland': 0.33613445378151263, 'Mali': 0.33613445378151263, 'Guinea': 0.33613445378151263, 'Guinea Bissau': 0.16806722689075632, 'Korea Republic': 0.16806722689075632, 'Kenya': 0.16806722689075632, 'Ecuador': 0.16806722689075632, 'Jamaica': 0.16806722689075632, 'Armenia': 0.16806722689075632, 'Cape Verde': 0.16806722689075632, 'Chad': 0.16806722689075632, 'Gabon': 0.16806722689075632, 'Ukraine': 0.16806722689075632, 'DR Congo': 0.16806722689075632, 'FYR Macedonia': 0.16806722689075632, 'Romania': 0.16806722689075632, 'Albania': 0.16806722689075632, 'Morocco': 0.16806722689075632, 'Costa Rica': 0.16806722689075632, 'Dominican Republic': 0.16806722689075632, 'Cyprus': 0.16806722689075632}\n",
            "--------------------------------------------------\n",
            "\n"
          ]
        },
        {
          "output_type": "execute_result",
          "data": {
            "text/plain": [
              "                   club nationality percent\n",
              "1              Juventus       Italy    44.0\n",
              "2                Napoli       Italy    16.0\n",
              "3                 Inter       Italy   33.33\n",
              "4           Real Madrid       Spain   57.58\n",
              "5     Manchester United       Italy   33.33\n",
              "6                 Milan       Italy   48.15\n",
              "7          FC Barcelona       Spain   51.52\n",
              "8   Paris Saint-Germain      France    50.0\n",
              "9                  Roma       Italy   34.62\n",
              "10    FC Bayern München     Germany   62.07\n",
              "11    Tottenham Hotspur     England   39.39\n",
              "12           SL Benfica      Brazil   28.57\n",
              "13              Arsenal     England    30.3\n",
              "14              Chelsea     England   27.27\n",
              "15             FC Porto      Brazil   28.57\n",
              "16          Sporting CP    Portugal   23.33\n",
              "17      Manchester City     England   27.27\n",
              "18            Liverpool     England   39.39\n",
              "19      Atlético Madrid       Spain   54.55\n",
              "20  Bayer 04 Leverkusen     Germany   42.31"
            ],
            "text/html": [
              "\n",
              "  <div id=\"df-ba211e35-b76e-44fc-91e7-7bd693d77d55\">\n",
              "    <div class=\"colab-df-container\">\n",
              "      <div>\n",
              "<style scoped>\n",
              "    .dataframe tbody tr th:only-of-type {\n",
              "        vertical-align: middle;\n",
              "    }\n",
              "\n",
              "    .dataframe tbody tr th {\n",
              "        vertical-align: top;\n",
              "    }\n",
              "\n",
              "    .dataframe thead th {\n",
              "        text-align: right;\n",
              "    }\n",
              "</style>\n",
              "<table border=\"1\" class=\"dataframe\">\n",
              "  <thead>\n",
              "    <tr style=\"text-align: right;\">\n",
              "      <th></th>\n",
              "      <th>club</th>\n",
              "      <th>nationality</th>\n",
              "      <th>percent</th>\n",
              "    </tr>\n",
              "  </thead>\n",
              "  <tbody>\n",
              "    <tr>\n",
              "      <th>1</th>\n",
              "      <td>Juventus</td>\n",
              "      <td>Italy</td>\n",
              "      <td>44.0</td>\n",
              "    </tr>\n",
              "    <tr>\n",
              "      <th>2</th>\n",
              "      <td>Napoli</td>\n",
              "      <td>Italy</td>\n",
              "      <td>16.0</td>\n",
              "    </tr>\n",
              "    <tr>\n",
              "      <th>3</th>\n",
              "      <td>Inter</td>\n",
              "      <td>Italy</td>\n",
              "      <td>33.33</td>\n",
              "    </tr>\n",
              "    <tr>\n",
              "      <th>4</th>\n",
              "      <td>Real Madrid</td>\n",
              "      <td>Spain</td>\n",
              "      <td>57.58</td>\n",
              "    </tr>\n",
              "    <tr>\n",
              "      <th>5</th>\n",
              "      <td>Manchester United</td>\n",
              "      <td>Italy</td>\n",
              "      <td>33.33</td>\n",
              "    </tr>\n",
              "    <tr>\n",
              "      <th>6</th>\n",
              "      <td>Milan</td>\n",
              "      <td>Italy</td>\n",
              "      <td>48.15</td>\n",
              "    </tr>\n",
              "    <tr>\n",
              "      <th>7</th>\n",
              "      <td>FC Barcelona</td>\n",
              "      <td>Spain</td>\n",
              "      <td>51.52</td>\n",
              "    </tr>\n",
              "    <tr>\n",
              "      <th>8</th>\n",
              "      <td>Paris Saint-Germain</td>\n",
              "      <td>France</td>\n",
              "      <td>50.0</td>\n",
              "    </tr>\n",
              "    <tr>\n",
              "      <th>9</th>\n",
              "      <td>Roma</td>\n",
              "      <td>Italy</td>\n",
              "      <td>34.62</td>\n",
              "    </tr>\n",
              "    <tr>\n",
              "      <th>10</th>\n",
              "      <td>FC Bayern München</td>\n",
              "      <td>Germany</td>\n",
              "      <td>62.07</td>\n",
              "    </tr>\n",
              "    <tr>\n",
              "      <th>11</th>\n",
              "      <td>Tottenham Hotspur</td>\n",
              "      <td>England</td>\n",
              "      <td>39.39</td>\n",
              "    </tr>\n",
              "    <tr>\n",
              "      <th>12</th>\n",
              "      <td>SL Benfica</td>\n",
              "      <td>Brazil</td>\n",
              "      <td>28.57</td>\n",
              "    </tr>\n",
              "    <tr>\n",
              "      <th>13</th>\n",
              "      <td>Arsenal</td>\n",
              "      <td>England</td>\n",
              "      <td>30.3</td>\n",
              "    </tr>\n",
              "    <tr>\n",
              "      <th>14</th>\n",
              "      <td>Chelsea</td>\n",
              "      <td>England</td>\n",
              "      <td>27.27</td>\n",
              "    </tr>\n",
              "    <tr>\n",
              "      <th>15</th>\n",
              "      <td>FC Porto</td>\n",
              "      <td>Brazil</td>\n",
              "      <td>28.57</td>\n",
              "    </tr>\n",
              "    <tr>\n",
              "      <th>16</th>\n",
              "      <td>Sporting CP</td>\n",
              "      <td>Portugal</td>\n",
              "      <td>23.33</td>\n",
              "    </tr>\n",
              "    <tr>\n",
              "      <th>17</th>\n",
              "      <td>Manchester City</td>\n",
              "      <td>England</td>\n",
              "      <td>27.27</td>\n",
              "    </tr>\n",
              "    <tr>\n",
              "      <th>18</th>\n",
              "      <td>Liverpool</td>\n",
              "      <td>England</td>\n",
              "      <td>39.39</td>\n",
              "    </tr>\n",
              "    <tr>\n",
              "      <th>19</th>\n",
              "      <td>Atlético Madrid</td>\n",
              "      <td>Spain</td>\n",
              "      <td>54.55</td>\n",
              "    </tr>\n",
              "    <tr>\n",
              "      <th>20</th>\n",
              "      <td>Bayer 04 Leverkusen</td>\n",
              "      <td>Germany</td>\n",
              "      <td>42.31</td>\n",
              "    </tr>\n",
              "  </tbody>\n",
              "</table>\n",
              "</div>\n",
              "      <button class=\"colab-df-convert\" onclick=\"convertToInteractive('df-ba211e35-b76e-44fc-91e7-7bd693d77d55')\"\n",
              "              title=\"Convert this dataframe to an interactive table.\"\n",
              "              style=\"display:none;\">\n",
              "        \n",
              "  <svg xmlns=\"http://www.w3.org/2000/svg\" height=\"24px\"viewBox=\"0 0 24 24\"\n",
              "       width=\"24px\">\n",
              "    <path d=\"M0 0h24v24H0V0z\" fill=\"none\"/>\n",
              "    <path d=\"M18.56 5.44l.94 2.06.94-2.06 2.06-.94-2.06-.94-.94-2.06-.94 2.06-2.06.94zm-11 1L8.5 8.5l.94-2.06 2.06-.94-2.06-.94L8.5 2.5l-.94 2.06-2.06.94zm10 10l.94 2.06.94-2.06 2.06-.94-2.06-.94-.94-2.06-.94 2.06-2.06.94z\"/><path d=\"M17.41 7.96l-1.37-1.37c-.4-.4-.92-.59-1.43-.59-.52 0-1.04.2-1.43.59L10.3 9.45l-7.72 7.72c-.78.78-.78 2.05 0 2.83L4 21.41c.39.39.9.59 1.41.59.51 0 1.02-.2 1.41-.59l7.78-7.78 2.81-2.81c.8-.78.8-2.07 0-2.86zM5.41 20L4 18.59l7.72-7.72 1.47 1.35L5.41 20z\"/>\n",
              "  </svg>\n",
              "      </button>\n",
              "      \n",
              "  <style>\n",
              "    .colab-df-container {\n",
              "      display:flex;\n",
              "      flex-wrap:wrap;\n",
              "      gap: 12px;\n",
              "    }\n",
              "\n",
              "    .colab-df-convert {\n",
              "      background-color: #E8F0FE;\n",
              "      border: none;\n",
              "      border-radius: 50%;\n",
              "      cursor: pointer;\n",
              "      display: none;\n",
              "      fill: #1967D2;\n",
              "      height: 32px;\n",
              "      padding: 0 0 0 0;\n",
              "      width: 32px;\n",
              "    }\n",
              "\n",
              "    .colab-df-convert:hover {\n",
              "      background-color: #E2EBFA;\n",
              "      box-shadow: 0px 1px 2px rgba(60, 64, 67, 0.3), 0px 1px 3px 1px rgba(60, 64, 67, 0.15);\n",
              "      fill: #174EA6;\n",
              "    }\n",
              "\n",
              "    [theme=dark] .colab-df-convert {\n",
              "      background-color: #3B4455;\n",
              "      fill: #D2E3FC;\n",
              "    }\n",
              "\n",
              "    [theme=dark] .colab-df-convert:hover {\n",
              "      background-color: #434B5C;\n",
              "      box-shadow: 0px 1px 3px 1px rgba(0, 0, 0, 0.15);\n",
              "      filter: drop-shadow(0px 1px 2px rgba(0, 0, 0, 0.3));\n",
              "      fill: #FFFFFF;\n",
              "    }\n",
              "  </style>\n",
              "\n",
              "      <script>\n",
              "        const buttonEl =\n",
              "          document.querySelector('#df-ba211e35-b76e-44fc-91e7-7bd693d77d55 button.colab-df-convert');\n",
              "        buttonEl.style.display =\n",
              "          google.colab.kernel.accessAllowed ? 'block' : 'none';\n",
              "\n",
              "        async function convertToInteractive(key) {\n",
              "          const element = document.querySelector('#df-ba211e35-b76e-44fc-91e7-7bd693d77d55');\n",
              "          const dataTable =\n",
              "            await google.colab.kernel.invokeFunction('convertToInteractive',\n",
              "                                                     [key], {});\n",
              "          if (!dataTable) return;\n",
              "\n",
              "          const docLinkHtml = 'Like what you see? Visit the ' +\n",
              "            '<a target=\"_blank\" href=https://colab.research.google.com/notebooks/data_table.ipynb>data table notebook</a>'\n",
              "            + ' to learn more about interactive tables.';\n",
              "          element.innerHTML = '';\n",
              "          dataTable['output_type'] = 'display_data';\n",
              "          await google.colab.output.renderOutput(dataTable, element);\n",
              "          const docLink = document.createElement('div');\n",
              "          docLink.innerHTML = docLinkHtml;\n",
              "          element.appendChild(docLink);\n",
              "        }\n",
              "      </script>\n",
              "    </div>\n",
              "  </div>\n",
              "  "
            ]
          },
          "metadata": {},
          "execution_count": 25
        }
      ],
      "source": [
        "\"\"\" POINT 3 \"\"\"\n",
        "df_clubs_nationality = data_3.filter(['Club', 'Nationality', 'Index'])\n",
        "\n",
        "df_top20_clubs_nationality = df_clubs_nationality.loc[df_clubs_nationality['Club'].isin(clubs_top_20)]\n",
        "#### Frequency of nationality players in the first 20 top clubs #####\n",
        "df = df_top20_clubs_nationality['Nationality'].value_counts(normalize=True)*100\n",
        "dic_freq_nationality_20top = df.to_dict()\n",
        "print(\"Frequency of nationality in the top 20 clubs\")\n",
        "print(dic_freq_nationality_20top)\n",
        "print('-'*50+'\\n')\n",
        "#####################################################################\n",
        "\n",
        "#### Frequency of nationality players for each top 20 club ####\n",
        "\n",
        "\n",
        "df_top20_clubs_nationality_count = df_top20_clubs_nationality.groupby(['Club', 'Nationality'], as_index=False).count()\n",
        "df_top20_clubs_nationality_count.rename(columns={'Index': 'Num_players'}, inplace=True)\n",
        "df_top20_clubs_nationality_count.sort_values('Nationality', ascending=False, inplace = True)\n",
        "\n",
        "df = df_top20_clubs_nationality_count\n",
        "g = df.groupby(['Club', 'Nationality']).agg({'Num_players' : 'sum'})\n",
        "g2 = g.groupby(level=0).apply(lambda x:  round(x / x.sum() *100,2))\n",
        "g2.rename(columns={'Num_players': 'Num_players_perc'}, inplace=True)\n",
        "# club='Juventus'\n",
        "# print(\"percent of \"+club)\n",
        "# print(g2.loc[g2.index.get_level_values('Club')==club])\n",
        "dic_p = {}\n",
        "for club in clubs_top_20:\n",
        "  max_value=g2.loc[g2.index.get_level_values('Club')==club]['Num_players_perc'].max()\n",
        "  nationality = g2.loc[g2.Num_players_perc==max_value]\n",
        "  dic_p[club]=[ nationality.index[0][1],max_value]\n",
        "\n",
        "list(dic_p.values())[0][0]\n",
        "\n",
        "\n",
        "df_final=pd.DataFrame(columns=['club', 'nationality', 'percent'])\n",
        "df_final['club']=list(dic_p.keys())\n",
        "df_final\n",
        "for club in list(dic_p.keys()):\n",
        "  df_final['nationality'].loc[df_final.club==club]=dic_p[club][0]\n",
        "  df_final['percent'].loc[df_final.club==club]=dic_p[club][1]\n",
        "leaderboard_index(df_final)\n",
        "df_final"
      ]
    },
    {
      "cell_type": "markdown",
      "metadata": {
        "id": "wM9n-mXxbxuG"
      },
      "source": [
        "### Point 4.1. Possible leaderboard if the players of the teams reached their max potential"
      ]
    },
    {
      "cell_type": "code",
      "execution_count": 26,
      "metadata": {
        "colab": {
          "base_uri": "https://localhost:8080/",
          "height": 711
        },
        "id": "q7QnQXFfnFwY",
        "outputId": "47b70922-3343-45a5-d285-7cd5e5edf0ca"
      },
      "outputs": [
        {
          "output_type": "stream",
          "name": "stdout",
          "text": [
            "Leaderboard of potential value\n",
            "\n"
          ]
        },
        {
          "output_type": "execute_result",
          "data": {
            "text/plain": [
              "                   Club  Potential\n",
              "1              Juventus  85.382639\n",
              "2          FC Barcelona  84.910227\n",
              "3           Real Madrid  84.361310\n",
              "4   Paris Saint-Germain  83.579167\n",
              "5     FC Bayern München  83.577083\n",
              "6                Napoli  83.392857\n",
              "7       Manchester City  83.330433\n",
              "8     Manchester United  82.705556\n",
              "9                 Milan  82.670833\n",
              "10      Atlético Madrid  82.473485\n",
              "11            Liverpool  82.298611\n",
              "12              Chelsea  82.032197\n",
              "13              Arsenal  81.907143\n",
              "14    Borussia Dortmund  81.723214\n",
              "15                 Roma  81.701190\n",
              "16           SL Benfica  81.613889\n",
              "17    Tottenham Hotspur  81.563492\n",
              "18          Valencia CF  81.487500\n",
              "19   Olympique Lyonnais  81.440657\n",
              "20                Inter  81.148214"
            ],
            "text/html": [
              "\n",
              "  <div id=\"df-39f4284f-ad47-484a-86e6-8a6a9b31baa9\">\n",
              "    <div class=\"colab-df-container\">\n",
              "      <div>\n",
              "<style scoped>\n",
              "    .dataframe tbody tr th:only-of-type {\n",
              "        vertical-align: middle;\n",
              "    }\n",
              "\n",
              "    .dataframe tbody tr th {\n",
              "        vertical-align: top;\n",
              "    }\n",
              "\n",
              "    .dataframe thead th {\n",
              "        text-align: right;\n",
              "    }\n",
              "</style>\n",
              "<table border=\"1\" class=\"dataframe\">\n",
              "  <thead>\n",
              "    <tr style=\"text-align: right;\">\n",
              "      <th></th>\n",
              "      <th>Club</th>\n",
              "      <th>Potential</th>\n",
              "    </tr>\n",
              "  </thead>\n",
              "  <tbody>\n",
              "    <tr>\n",
              "      <th>1</th>\n",
              "      <td>Juventus</td>\n",
              "      <td>85.382639</td>\n",
              "    </tr>\n",
              "    <tr>\n",
              "      <th>2</th>\n",
              "      <td>FC Barcelona</td>\n",
              "      <td>84.910227</td>\n",
              "    </tr>\n",
              "    <tr>\n",
              "      <th>3</th>\n",
              "      <td>Real Madrid</td>\n",
              "      <td>84.361310</td>\n",
              "    </tr>\n",
              "    <tr>\n",
              "      <th>4</th>\n",
              "      <td>Paris Saint-Germain</td>\n",
              "      <td>83.579167</td>\n",
              "    </tr>\n",
              "    <tr>\n",
              "      <th>5</th>\n",
              "      <td>FC Bayern München</td>\n",
              "      <td>83.577083</td>\n",
              "    </tr>\n",
              "    <tr>\n",
              "      <th>6</th>\n",
              "      <td>Napoli</td>\n",
              "      <td>83.392857</td>\n",
              "    </tr>\n",
              "    <tr>\n",
              "      <th>7</th>\n",
              "      <td>Manchester City</td>\n",
              "      <td>83.330433</td>\n",
              "    </tr>\n",
              "    <tr>\n",
              "      <th>8</th>\n",
              "      <td>Manchester United</td>\n",
              "      <td>82.705556</td>\n",
              "    </tr>\n",
              "    <tr>\n",
              "      <th>9</th>\n",
              "      <td>Milan</td>\n",
              "      <td>82.670833</td>\n",
              "    </tr>\n",
              "    <tr>\n",
              "      <th>10</th>\n",
              "      <td>Atlético Madrid</td>\n",
              "      <td>82.473485</td>\n",
              "    </tr>\n",
              "    <tr>\n",
              "      <th>11</th>\n",
              "      <td>Liverpool</td>\n",
              "      <td>82.298611</td>\n",
              "    </tr>\n",
              "    <tr>\n",
              "      <th>12</th>\n",
              "      <td>Chelsea</td>\n",
              "      <td>82.032197</td>\n",
              "    </tr>\n",
              "    <tr>\n",
              "      <th>13</th>\n",
              "      <td>Arsenal</td>\n",
              "      <td>81.907143</td>\n",
              "    </tr>\n",
              "    <tr>\n",
              "      <th>14</th>\n",
              "      <td>Borussia Dortmund</td>\n",
              "      <td>81.723214</td>\n",
              "    </tr>\n",
              "    <tr>\n",
              "      <th>15</th>\n",
              "      <td>Roma</td>\n",
              "      <td>81.701190</td>\n",
              "    </tr>\n",
              "    <tr>\n",
              "      <th>16</th>\n",
              "      <td>SL Benfica</td>\n",
              "      <td>81.613889</td>\n",
              "    </tr>\n",
              "    <tr>\n",
              "      <th>17</th>\n",
              "      <td>Tottenham Hotspur</td>\n",
              "      <td>81.563492</td>\n",
              "    </tr>\n",
              "    <tr>\n",
              "      <th>18</th>\n",
              "      <td>Valencia CF</td>\n",
              "      <td>81.487500</td>\n",
              "    </tr>\n",
              "    <tr>\n",
              "      <th>19</th>\n",
              "      <td>Olympique Lyonnais</td>\n",
              "      <td>81.440657</td>\n",
              "    </tr>\n",
              "    <tr>\n",
              "      <th>20</th>\n",
              "      <td>Inter</td>\n",
              "      <td>81.148214</td>\n",
              "    </tr>\n",
              "  </tbody>\n",
              "</table>\n",
              "</div>\n",
              "      <button class=\"colab-df-convert\" onclick=\"convertToInteractive('df-39f4284f-ad47-484a-86e6-8a6a9b31baa9')\"\n",
              "              title=\"Convert this dataframe to an interactive table.\"\n",
              "              style=\"display:none;\">\n",
              "        \n",
              "  <svg xmlns=\"http://www.w3.org/2000/svg\" height=\"24px\"viewBox=\"0 0 24 24\"\n",
              "       width=\"24px\">\n",
              "    <path d=\"M0 0h24v24H0V0z\" fill=\"none\"/>\n",
              "    <path d=\"M18.56 5.44l.94 2.06.94-2.06 2.06-.94-2.06-.94-.94-2.06-.94 2.06-2.06.94zm-11 1L8.5 8.5l.94-2.06 2.06-.94-2.06-.94L8.5 2.5l-.94 2.06-2.06.94zm10 10l.94 2.06.94-2.06 2.06-.94-2.06-.94-.94-2.06-.94 2.06-2.06.94z\"/><path d=\"M17.41 7.96l-1.37-1.37c-.4-.4-.92-.59-1.43-.59-.52 0-1.04.2-1.43.59L10.3 9.45l-7.72 7.72c-.78.78-.78 2.05 0 2.83L4 21.41c.39.39.9.59 1.41.59.51 0 1.02-.2 1.41-.59l7.78-7.78 2.81-2.81c.8-.78.8-2.07 0-2.86zM5.41 20L4 18.59l7.72-7.72 1.47 1.35L5.41 20z\"/>\n",
              "  </svg>\n",
              "      </button>\n",
              "      \n",
              "  <style>\n",
              "    .colab-df-container {\n",
              "      display:flex;\n",
              "      flex-wrap:wrap;\n",
              "      gap: 12px;\n",
              "    }\n",
              "\n",
              "    .colab-df-convert {\n",
              "      background-color: #E8F0FE;\n",
              "      border: none;\n",
              "      border-radius: 50%;\n",
              "      cursor: pointer;\n",
              "      display: none;\n",
              "      fill: #1967D2;\n",
              "      height: 32px;\n",
              "      padding: 0 0 0 0;\n",
              "      width: 32px;\n",
              "    }\n",
              "\n",
              "    .colab-df-convert:hover {\n",
              "      background-color: #E2EBFA;\n",
              "      box-shadow: 0px 1px 2px rgba(60, 64, 67, 0.3), 0px 1px 3px 1px rgba(60, 64, 67, 0.15);\n",
              "      fill: #174EA6;\n",
              "    }\n",
              "\n",
              "    [theme=dark] .colab-df-convert {\n",
              "      background-color: #3B4455;\n",
              "      fill: #D2E3FC;\n",
              "    }\n",
              "\n",
              "    [theme=dark] .colab-df-convert:hover {\n",
              "      background-color: #434B5C;\n",
              "      box-shadow: 0px 1px 3px 1px rgba(0, 0, 0, 0.15);\n",
              "      filter: drop-shadow(0px 1px 2px rgba(0, 0, 0, 0.3));\n",
              "      fill: #FFFFFF;\n",
              "    }\n",
              "  </style>\n",
              "\n",
              "      <script>\n",
              "        const buttonEl =\n",
              "          document.querySelector('#df-39f4284f-ad47-484a-86e6-8a6a9b31baa9 button.colab-df-convert');\n",
              "        buttonEl.style.display =\n",
              "          google.colab.kernel.accessAllowed ? 'block' : 'none';\n",
              "\n",
              "        async function convertToInteractive(key) {\n",
              "          const element = document.querySelector('#df-39f4284f-ad47-484a-86e6-8a6a9b31baa9');\n",
              "          const dataTable =\n",
              "            await google.colab.kernel.invokeFunction('convertToInteractive',\n",
              "                                                     [key], {});\n",
              "          if (!dataTable) return;\n",
              "\n",
              "          const docLinkHtml = 'Like what you see? Visit the ' +\n",
              "            '<a target=\"_blank\" href=https://colab.research.google.com/notebooks/data_table.ipynb>data table notebook</a>'\n",
              "            + ' to learn more about interactive tables.';\n",
              "          element.innerHTML = '';\n",
              "          dataTable['output_type'] = 'display_data';\n",
              "          await google.colab.output.renderOutput(dataTable, element);\n",
              "          const docLink = document.createElement('div');\n",
              "          docLink.innerHTML = docLinkHtml;\n",
              "          element.appendChild(docLink);\n",
              "        }\n",
              "      </script>\n",
              "    </div>\n",
              "  </div>\n",
              "  "
            ]
          },
          "metadata": {},
          "execution_count": 26
        }
      ],
      "source": [
        "\"\"\" POINT 4.1 \"\"\"\n",
        "def top20clubs_by_potential():\n",
        "  df_clubs_potential_position = data_3.filter([ 'Club', 'Potential', 'Position_name' ])\n",
        "\n",
        "\n",
        "  df_club_potential_mean  = df_clubs_potential_position.groupby(['Club', 'Position_name'], as_index=False).mean()\n",
        "  df_club_potential_mean  = df_club_potential_mean.groupby(['Club'], \n",
        "                                                            as_index=False).mean()    \n",
        "  df_club_potential_mean.sort_values('Potential', ascending=False, inplace=True)\n",
        "  df_club_potential_mean.reset_index(inplace=True,drop=True)\n",
        "  df_club_potential_mean.index = df_club_potential_mean.index + 1\n",
        " # print(\"top 20 clubs with mean of the POTENTIAL value:\\n\")\n",
        "  #print(\"\\nfirst 20 clubs WITH more complex mean.\")\n",
        "  #print(data_clubs_mean_V2[:20])\n",
        "  return df_club_potential_mean[:20]\n",
        "\n",
        "print(\"Leaderboard of potential value\")\n",
        "print()\n",
        "top20clubs_by_potential()"
      ]
    },
    {
      "cell_type": "markdown",
      "metadata": {
        "id": "yEbsZdJQcSqY"
      },
      "source": [
        "### Point 4.2. Potential leaderboard with the potential gained (or lost) positions"
      ]
    },
    {
      "cell_type": "code",
      "execution_count": 27,
      "metadata": {
        "colab": {
          "base_uri": "https://localhost:8080/",
          "height": 676
        },
        "id": "oNVas-YUbQrY",
        "outputId": "c842c183-473c-4645-82c2-6b07bf993641"
      },
      "outputs": [
        {
          "output_type": "execute_result",
          "data": {
            "text/plain": [
              "                   Club  Potential        Gained_positions\n",
              "1              Juventus  85.382639                       0\n",
              "2          FC Barcelona  84.910227                       5\n",
              "3           Real Madrid  84.361310                       1\n",
              "4   Paris Saint-Germain  83.579167                       4\n",
              "5     FC Bayern München  83.577083                       5\n",
              "6                Napoli  83.392857                      -4\n",
              "7       Manchester City  83.330433                      10\n",
              "8     Manchester United  82.705556                      -3\n",
              "9                 Milan  82.670833                      -3\n",
              "10      Atlético Madrid  82.473485                       9\n",
              "11            Liverpool  82.298611                       7\n",
              "12              Chelsea  82.032197                       2\n",
              "13              Arsenal  81.907143                       0\n",
              "14    Borussia Dortmund  81.723214  new in the leaderboard\n",
              "15                 Roma  81.701190                      -6\n",
              "16           SL Benfica  81.613889                      -4\n",
              "17    Tottenham Hotspur  81.563492                      -6\n",
              "18          Valencia CF  81.487500  new in the leaderboard\n",
              "19   Olympique Lyonnais  81.440657  new in the leaderboard\n",
              "20                Inter  81.148214                     -17"
            ],
            "text/html": [
              "\n",
              "  <div id=\"df-548519df-52a9-449e-9640-d86798e07ade\">\n",
              "    <div class=\"colab-df-container\">\n",
              "      <div>\n",
              "<style scoped>\n",
              "    .dataframe tbody tr th:only-of-type {\n",
              "        vertical-align: middle;\n",
              "    }\n",
              "\n",
              "    .dataframe tbody tr th {\n",
              "        vertical-align: top;\n",
              "    }\n",
              "\n",
              "    .dataframe thead th {\n",
              "        text-align: right;\n",
              "    }\n",
              "</style>\n",
              "<table border=\"1\" class=\"dataframe\">\n",
              "  <thead>\n",
              "    <tr style=\"text-align: right;\">\n",
              "      <th></th>\n",
              "      <th>Club</th>\n",
              "      <th>Potential</th>\n",
              "      <th>Gained_positions</th>\n",
              "    </tr>\n",
              "  </thead>\n",
              "  <tbody>\n",
              "    <tr>\n",
              "      <th>1</th>\n",
              "      <td>Juventus</td>\n",
              "      <td>85.382639</td>\n",
              "      <td>0</td>\n",
              "    </tr>\n",
              "    <tr>\n",
              "      <th>2</th>\n",
              "      <td>FC Barcelona</td>\n",
              "      <td>84.910227</td>\n",
              "      <td>5</td>\n",
              "    </tr>\n",
              "    <tr>\n",
              "      <th>3</th>\n",
              "      <td>Real Madrid</td>\n",
              "      <td>84.361310</td>\n",
              "      <td>1</td>\n",
              "    </tr>\n",
              "    <tr>\n",
              "      <th>4</th>\n",
              "      <td>Paris Saint-Germain</td>\n",
              "      <td>83.579167</td>\n",
              "      <td>4</td>\n",
              "    </tr>\n",
              "    <tr>\n",
              "      <th>5</th>\n",
              "      <td>FC Bayern München</td>\n",
              "      <td>83.577083</td>\n",
              "      <td>5</td>\n",
              "    </tr>\n",
              "    <tr>\n",
              "      <th>6</th>\n",
              "      <td>Napoli</td>\n",
              "      <td>83.392857</td>\n",
              "      <td>-4</td>\n",
              "    </tr>\n",
              "    <tr>\n",
              "      <th>7</th>\n",
              "      <td>Manchester City</td>\n",
              "      <td>83.330433</td>\n",
              "      <td>10</td>\n",
              "    </tr>\n",
              "    <tr>\n",
              "      <th>8</th>\n",
              "      <td>Manchester United</td>\n",
              "      <td>82.705556</td>\n",
              "      <td>-3</td>\n",
              "    </tr>\n",
              "    <tr>\n",
              "      <th>9</th>\n",
              "      <td>Milan</td>\n",
              "      <td>82.670833</td>\n",
              "      <td>-3</td>\n",
              "    </tr>\n",
              "    <tr>\n",
              "      <th>10</th>\n",
              "      <td>Atlético Madrid</td>\n",
              "      <td>82.473485</td>\n",
              "      <td>9</td>\n",
              "    </tr>\n",
              "    <tr>\n",
              "      <th>11</th>\n",
              "      <td>Liverpool</td>\n",
              "      <td>82.298611</td>\n",
              "      <td>7</td>\n",
              "    </tr>\n",
              "    <tr>\n",
              "      <th>12</th>\n",
              "      <td>Chelsea</td>\n",
              "      <td>82.032197</td>\n",
              "      <td>2</td>\n",
              "    </tr>\n",
              "    <tr>\n",
              "      <th>13</th>\n",
              "      <td>Arsenal</td>\n",
              "      <td>81.907143</td>\n",
              "      <td>0</td>\n",
              "    </tr>\n",
              "    <tr>\n",
              "      <th>14</th>\n",
              "      <td>Borussia Dortmund</td>\n",
              "      <td>81.723214</td>\n",
              "      <td>new in the leaderboard</td>\n",
              "    </tr>\n",
              "    <tr>\n",
              "      <th>15</th>\n",
              "      <td>Roma</td>\n",
              "      <td>81.701190</td>\n",
              "      <td>-6</td>\n",
              "    </tr>\n",
              "    <tr>\n",
              "      <th>16</th>\n",
              "      <td>SL Benfica</td>\n",
              "      <td>81.613889</td>\n",
              "      <td>-4</td>\n",
              "    </tr>\n",
              "    <tr>\n",
              "      <th>17</th>\n",
              "      <td>Tottenham Hotspur</td>\n",
              "      <td>81.563492</td>\n",
              "      <td>-6</td>\n",
              "    </tr>\n",
              "    <tr>\n",
              "      <th>18</th>\n",
              "      <td>Valencia CF</td>\n",
              "      <td>81.487500</td>\n",
              "      <td>new in the leaderboard</td>\n",
              "    </tr>\n",
              "    <tr>\n",
              "      <th>19</th>\n",
              "      <td>Olympique Lyonnais</td>\n",
              "      <td>81.440657</td>\n",
              "      <td>new in the leaderboard</td>\n",
              "    </tr>\n",
              "    <tr>\n",
              "      <th>20</th>\n",
              "      <td>Inter</td>\n",
              "      <td>81.148214</td>\n",
              "      <td>-17</td>\n",
              "    </tr>\n",
              "  </tbody>\n",
              "</table>\n",
              "</div>\n",
              "      <button class=\"colab-df-convert\" onclick=\"convertToInteractive('df-548519df-52a9-449e-9640-d86798e07ade')\"\n",
              "              title=\"Convert this dataframe to an interactive table.\"\n",
              "              style=\"display:none;\">\n",
              "        \n",
              "  <svg xmlns=\"http://www.w3.org/2000/svg\" height=\"24px\"viewBox=\"0 0 24 24\"\n",
              "       width=\"24px\">\n",
              "    <path d=\"M0 0h24v24H0V0z\" fill=\"none\"/>\n",
              "    <path d=\"M18.56 5.44l.94 2.06.94-2.06 2.06-.94-2.06-.94-.94-2.06-.94 2.06-2.06.94zm-11 1L8.5 8.5l.94-2.06 2.06-.94-2.06-.94L8.5 2.5l-.94 2.06-2.06.94zm10 10l.94 2.06.94-2.06 2.06-.94-2.06-.94-.94-2.06-.94 2.06-2.06.94z\"/><path d=\"M17.41 7.96l-1.37-1.37c-.4-.4-.92-.59-1.43-.59-.52 0-1.04.2-1.43.59L10.3 9.45l-7.72 7.72c-.78.78-.78 2.05 0 2.83L4 21.41c.39.39.9.59 1.41.59.51 0 1.02-.2 1.41-.59l7.78-7.78 2.81-2.81c.8-.78.8-2.07 0-2.86zM5.41 20L4 18.59l7.72-7.72 1.47 1.35L5.41 20z\"/>\n",
              "  </svg>\n",
              "      </button>\n",
              "      \n",
              "  <style>\n",
              "    .colab-df-container {\n",
              "      display:flex;\n",
              "      flex-wrap:wrap;\n",
              "      gap: 12px;\n",
              "    }\n",
              "\n",
              "    .colab-df-convert {\n",
              "      background-color: #E8F0FE;\n",
              "      border: none;\n",
              "      border-radius: 50%;\n",
              "      cursor: pointer;\n",
              "      display: none;\n",
              "      fill: #1967D2;\n",
              "      height: 32px;\n",
              "      padding: 0 0 0 0;\n",
              "      width: 32px;\n",
              "    }\n",
              "\n",
              "    .colab-df-convert:hover {\n",
              "      background-color: #E2EBFA;\n",
              "      box-shadow: 0px 1px 2px rgba(60, 64, 67, 0.3), 0px 1px 3px 1px rgba(60, 64, 67, 0.15);\n",
              "      fill: #174EA6;\n",
              "    }\n",
              "\n",
              "    [theme=dark] .colab-df-convert {\n",
              "      background-color: #3B4455;\n",
              "      fill: #D2E3FC;\n",
              "    }\n",
              "\n",
              "    [theme=dark] .colab-df-convert:hover {\n",
              "      background-color: #434B5C;\n",
              "      box-shadow: 0px 1px 3px 1px rgba(0, 0, 0, 0.15);\n",
              "      filter: drop-shadow(0px 1px 2px rgba(0, 0, 0, 0.3));\n",
              "      fill: #FFFFFF;\n",
              "    }\n",
              "  </style>\n",
              "\n",
              "      <script>\n",
              "        const buttonEl =\n",
              "          document.querySelector('#df-548519df-52a9-449e-9640-d86798e07ade button.colab-df-convert');\n",
              "        buttonEl.style.display =\n",
              "          google.colab.kernel.accessAllowed ? 'block' : 'none';\n",
              "\n",
              "        async function convertToInteractive(key) {\n",
              "          const element = document.querySelector('#df-548519df-52a9-449e-9640-d86798e07ade');\n",
              "          const dataTable =\n",
              "            await google.colab.kernel.invokeFunction('convertToInteractive',\n",
              "                                                     [key], {});\n",
              "          if (!dataTable) return;\n",
              "\n",
              "          const docLinkHtml = 'Like what you see? Visit the ' +\n",
              "            '<a target=\"_blank\" href=https://colab.research.google.com/notebooks/data_table.ipynb>data table notebook</a>'\n",
              "            + ' to learn more about interactive tables.';\n",
              "          element.innerHTML = '';\n",
              "          dataTable['output_type'] = 'display_data';\n",
              "          await google.colab.output.renderOutput(dataTable, element);\n",
              "          const docLink = document.createElement('div');\n",
              "          docLink.innerHTML = docLinkHtml;\n",
              "          element.appendChild(docLink);\n",
              "        }\n",
              "      </script>\n",
              "    </div>\n",
              "  </div>\n",
              "  "
            ]
          },
          "metadata": {},
          "execution_count": 27
        }
      ],
      "source": [
        "\"\"\" POINT 4.2\"\"\"\n",
        "def gained_pos(old, new):\n",
        "  \n",
        "  d_old = old['Club'].to_dict()\n",
        "  d_new = new['Club'].to_dict()\n",
        "  inv_d_old= {v: k for k, v in d_old.items()}\n",
        "  inv_d_new= {v: k for k, v in d_new.items()}\n",
        "  #print(inv_d_new)\n",
        "  #print(inv_d_old)\n",
        "  d_result={}\n",
        "\n",
        "  for club, pos_new in inv_d_new.items():\n",
        "    if club in inv_d_old.keys():\n",
        "      pos_old = inv_d_old[club]\n",
        "      gain =  pos_old - pos_new\n",
        "      d_result[club]=gain\n",
        "    else:\n",
        "      d_result[club] = 'new in the leaderboard'\n",
        "  #print(d_result)\n",
        "\n",
        "  new['Gained_positions'] = new['Club'].map(d_result)\n",
        "  #print(new)\n",
        "  return new\n",
        "\n",
        "new = top20clubs_by_potential()\n",
        "old = clubs_overall_mean_by_position(data_3)[1]\n",
        "# print(old)\n",
        "gained_pos(old[:20], new)\n"
      ]
    },
    {
      "cell_type": "markdown",
      "metadata": {
        "id": "inybFMZ6c7IN"
      },
      "source": [
        "### Point 5. Leaderboard of the most faithful player "
      ]
    },
    {
      "cell_type": "code",
      "execution_count": 28,
      "metadata": {
        "colab": {
          "base_uri": "https://localhost:8080/",
          "height": 676
        },
        "id": "2t5A-mjPW9Uw",
        "outputId": "af87073e-cea8-45d6-a8eb-afde3b9e221d"
      },
      "outputs": [
        {
          "output_type": "execute_result",
          "data": {
            "text/plain": [
              "                   Club  Years_from_joined           Name\n",
              "1                  Roma                 17    D. De Rossi\n",
              "2          FC Barcelona                 15       L. Messi\n",
              "3              Juventus                 14   G. Chiellini\n",
              "4           Real Madrid                 14   Sergio Ramos\n",
              "5     FC Bayern München                 12      F. Ribéry\n",
              "6     Tottenham Hotspur                 12        D. Rose\n",
              "7                Napoli                 12      M. Hamšík\n",
              "8       Manchester City                 11     V. Kompany\n",
              "9               Arsenal                 11      A. Ramsey\n",
              "10  Bayer 04 Leverkusen                 10      L. Bender\n",
              "11                Milan                 10       I. Abate\n",
              "12    Manchester United                 10    A. Valencia\n",
              "13  Paris Saint-Germain                  9      A. Areola\n",
              "14      Atlético Madrid                  9       D. Godín\n",
              "15                Inter                  9  R. Di Gennaro\n",
              "16            Liverpool                  8   J. Henderson\n",
              "17           SL Benfica                  8         Jardel\n",
              "18          Sporting CP                  7    Carlos Mané\n",
              "19              Chelsea                  7      E. Hazard\n",
              "20             FC Porto                  7        Fabiano"
            ],
            "text/html": [
              "\n",
              "  <div id=\"df-c48032c7-d2cc-4760-a61b-6b4bd5198558\">\n",
              "    <div class=\"colab-df-container\">\n",
              "      <div>\n",
              "<style scoped>\n",
              "    .dataframe tbody tr th:only-of-type {\n",
              "        vertical-align: middle;\n",
              "    }\n",
              "\n",
              "    .dataframe tbody tr th {\n",
              "        vertical-align: top;\n",
              "    }\n",
              "\n",
              "    .dataframe thead th {\n",
              "        text-align: right;\n",
              "    }\n",
              "</style>\n",
              "<table border=\"1\" class=\"dataframe\">\n",
              "  <thead>\n",
              "    <tr style=\"text-align: right;\">\n",
              "      <th></th>\n",
              "      <th>Club</th>\n",
              "      <th>Years_from_joined</th>\n",
              "      <th>Name</th>\n",
              "    </tr>\n",
              "  </thead>\n",
              "  <tbody>\n",
              "    <tr>\n",
              "      <th>1</th>\n",
              "      <td>Roma</td>\n",
              "      <td>17</td>\n",
              "      <td>D. De Rossi</td>\n",
              "    </tr>\n",
              "    <tr>\n",
              "      <th>2</th>\n",
              "      <td>FC Barcelona</td>\n",
              "      <td>15</td>\n",
              "      <td>L. Messi</td>\n",
              "    </tr>\n",
              "    <tr>\n",
              "      <th>3</th>\n",
              "      <td>Juventus</td>\n",
              "      <td>14</td>\n",
              "      <td>G. Chiellini</td>\n",
              "    </tr>\n",
              "    <tr>\n",
              "      <th>4</th>\n",
              "      <td>Real Madrid</td>\n",
              "      <td>14</td>\n",
              "      <td>Sergio Ramos</td>\n",
              "    </tr>\n",
              "    <tr>\n",
              "      <th>5</th>\n",
              "      <td>FC Bayern München</td>\n",
              "      <td>12</td>\n",
              "      <td>F. Ribéry</td>\n",
              "    </tr>\n",
              "    <tr>\n",
              "      <th>6</th>\n",
              "      <td>Tottenham Hotspur</td>\n",
              "      <td>12</td>\n",
              "      <td>D. Rose</td>\n",
              "    </tr>\n",
              "    <tr>\n",
              "      <th>7</th>\n",
              "      <td>Napoli</td>\n",
              "      <td>12</td>\n",
              "      <td>M. Hamšík</td>\n",
              "    </tr>\n",
              "    <tr>\n",
              "      <th>8</th>\n",
              "      <td>Manchester City</td>\n",
              "      <td>11</td>\n",
              "      <td>V. Kompany</td>\n",
              "    </tr>\n",
              "    <tr>\n",
              "      <th>9</th>\n",
              "      <td>Arsenal</td>\n",
              "      <td>11</td>\n",
              "      <td>A. Ramsey</td>\n",
              "    </tr>\n",
              "    <tr>\n",
              "      <th>10</th>\n",
              "      <td>Bayer 04 Leverkusen</td>\n",
              "      <td>10</td>\n",
              "      <td>L. Bender</td>\n",
              "    </tr>\n",
              "    <tr>\n",
              "      <th>11</th>\n",
              "      <td>Milan</td>\n",
              "      <td>10</td>\n",
              "      <td>I. Abate</td>\n",
              "    </tr>\n",
              "    <tr>\n",
              "      <th>12</th>\n",
              "      <td>Manchester United</td>\n",
              "      <td>10</td>\n",
              "      <td>A. Valencia</td>\n",
              "    </tr>\n",
              "    <tr>\n",
              "      <th>13</th>\n",
              "      <td>Paris Saint-Germain</td>\n",
              "      <td>9</td>\n",
              "      <td>A. Areola</td>\n",
              "    </tr>\n",
              "    <tr>\n",
              "      <th>14</th>\n",
              "      <td>Atlético Madrid</td>\n",
              "      <td>9</td>\n",
              "      <td>D. Godín</td>\n",
              "    </tr>\n",
              "    <tr>\n",
              "      <th>15</th>\n",
              "      <td>Inter</td>\n",
              "      <td>9</td>\n",
              "      <td>R. Di Gennaro</td>\n",
              "    </tr>\n",
              "    <tr>\n",
              "      <th>16</th>\n",
              "      <td>Liverpool</td>\n",
              "      <td>8</td>\n",
              "      <td>J. Henderson</td>\n",
              "    </tr>\n",
              "    <tr>\n",
              "      <th>17</th>\n",
              "      <td>SL Benfica</td>\n",
              "      <td>8</td>\n",
              "      <td>Jardel</td>\n",
              "    </tr>\n",
              "    <tr>\n",
              "      <th>18</th>\n",
              "      <td>Sporting CP</td>\n",
              "      <td>7</td>\n",
              "      <td>Carlos Mané</td>\n",
              "    </tr>\n",
              "    <tr>\n",
              "      <th>19</th>\n",
              "      <td>Chelsea</td>\n",
              "      <td>7</td>\n",
              "      <td>E. Hazard</td>\n",
              "    </tr>\n",
              "    <tr>\n",
              "      <th>20</th>\n",
              "      <td>FC Porto</td>\n",
              "      <td>7</td>\n",
              "      <td>Fabiano</td>\n",
              "    </tr>\n",
              "  </tbody>\n",
              "</table>\n",
              "</div>\n",
              "      <button class=\"colab-df-convert\" onclick=\"convertToInteractive('df-c48032c7-d2cc-4760-a61b-6b4bd5198558')\"\n",
              "              title=\"Convert this dataframe to an interactive table.\"\n",
              "              style=\"display:none;\">\n",
              "        \n",
              "  <svg xmlns=\"http://www.w3.org/2000/svg\" height=\"24px\"viewBox=\"0 0 24 24\"\n",
              "       width=\"24px\">\n",
              "    <path d=\"M0 0h24v24H0V0z\" fill=\"none\"/>\n",
              "    <path d=\"M18.56 5.44l.94 2.06.94-2.06 2.06-.94-2.06-.94-.94-2.06-.94 2.06-2.06.94zm-11 1L8.5 8.5l.94-2.06 2.06-.94-2.06-.94L8.5 2.5l-.94 2.06-2.06.94zm10 10l.94 2.06.94-2.06 2.06-.94-2.06-.94-.94-2.06-.94 2.06-2.06.94z\"/><path d=\"M17.41 7.96l-1.37-1.37c-.4-.4-.92-.59-1.43-.59-.52 0-1.04.2-1.43.59L10.3 9.45l-7.72 7.72c-.78.78-.78 2.05 0 2.83L4 21.41c.39.39.9.59 1.41.59.51 0 1.02-.2 1.41-.59l7.78-7.78 2.81-2.81c.8-.78.8-2.07 0-2.86zM5.41 20L4 18.59l7.72-7.72 1.47 1.35L5.41 20z\"/>\n",
              "  </svg>\n",
              "      </button>\n",
              "      \n",
              "  <style>\n",
              "    .colab-df-container {\n",
              "      display:flex;\n",
              "      flex-wrap:wrap;\n",
              "      gap: 12px;\n",
              "    }\n",
              "\n",
              "    .colab-df-convert {\n",
              "      background-color: #E8F0FE;\n",
              "      border: none;\n",
              "      border-radius: 50%;\n",
              "      cursor: pointer;\n",
              "      display: none;\n",
              "      fill: #1967D2;\n",
              "      height: 32px;\n",
              "      padding: 0 0 0 0;\n",
              "      width: 32px;\n",
              "    }\n",
              "\n",
              "    .colab-df-convert:hover {\n",
              "      background-color: #E2EBFA;\n",
              "      box-shadow: 0px 1px 2px rgba(60, 64, 67, 0.3), 0px 1px 3px 1px rgba(60, 64, 67, 0.15);\n",
              "      fill: #174EA6;\n",
              "    }\n",
              "\n",
              "    [theme=dark] .colab-df-convert {\n",
              "      background-color: #3B4455;\n",
              "      fill: #D2E3FC;\n",
              "    }\n",
              "\n",
              "    [theme=dark] .colab-df-convert:hover {\n",
              "      background-color: #434B5C;\n",
              "      box-shadow: 0px 1px 3px 1px rgba(0, 0, 0, 0.15);\n",
              "      filter: drop-shadow(0px 1px 2px rgba(0, 0, 0, 0.3));\n",
              "      fill: #FFFFFF;\n",
              "    }\n",
              "  </style>\n",
              "\n",
              "      <script>\n",
              "        const buttonEl =\n",
              "          document.querySelector('#df-c48032c7-d2cc-4760-a61b-6b4bd5198558 button.colab-df-convert');\n",
              "        buttonEl.style.display =\n",
              "          google.colab.kernel.accessAllowed ? 'block' : 'none';\n",
              "\n",
              "        async function convertToInteractive(key) {\n",
              "          const element = document.querySelector('#df-c48032c7-d2cc-4760-a61b-6b4bd5198558');\n",
              "          const dataTable =\n",
              "            await google.colab.kernel.invokeFunction('convertToInteractive',\n",
              "                                                     [key], {});\n",
              "          if (!dataTable) return;\n",
              "\n",
              "          const docLinkHtml = 'Like what you see? Visit the ' +\n",
              "            '<a target=\"_blank\" href=https://colab.research.google.com/notebooks/data_table.ipynb>data table notebook</a>'\n",
              "            + ' to learn more about interactive tables.';\n",
              "          element.innerHTML = '';\n",
              "          dataTable['output_type'] = 'display_data';\n",
              "          await google.colab.output.renderOutput(dataTable, element);\n",
              "          const docLink = document.createElement('div');\n",
              "          docLink.innerHTML = docLinkHtml;\n",
              "          element.appendChild(docLink);\n",
              "        }\n",
              "      </script>\n",
              "    </div>\n",
              "  </div>\n",
              "  "
            ]
          },
          "metadata": {},
          "execution_count": 28
        }
      ],
      "source": [
        "\"\"\" POINT 5 \"\"\"\n",
        "def loyal_players():\n",
        "  df = data_3.filter(['Club','Name', 'Joined'])\n",
        "  dates = list(df['Joined'])\n",
        "  format = '%b %d, %Y'\n",
        "  dates = list(df['Joined'])\n",
        "  dates_formatted = [2020 if x!=x\n",
        "                    else datetime.strptime(x,format).date().year for x in dates]\n",
        "  loyalty = [2019-x for x in dates_formatted]\n",
        "  df['Years_from_joined']= loyalty\n",
        " \n",
        "  df_loyal_club = df.groupby(['Club'], as_index=False).max('Years_from_joined')\n",
        "  \n",
        "  df_loyal_club.sort_values(\"Years_from_joined\", ascending=False,\n",
        "                            inplace=True)\n",
        "  top20df_club = df_loyal_club.loc[df_loyal_club['Club'].isin(clubs_top_20)]\n",
        "  \n",
        "  \n",
        "  top20df_club.sort_values(\"Years_from_joined\", ascending=False,\n",
        "                           inplace=True)\n",
        "  names = []                        \n",
        "  for row in top20df_club.itertuples():\n",
        "    club = row[1]\n",
        "    years = row[2]\n",
        "    name_row = df['Name'].loc[(df['Club']==club) & \n",
        "                          (df['Years_from_joined']==years)]\n",
        "    \n",
        "    names.append(name_row.iloc[0])\n",
        " \n",
        "  top20df_club['Name']=names\n",
        "  leaderboard_index(top20df_club)\n",
        "  return top20df_club\n",
        "\n",
        "loyal_players()"
      ]
    },
    {
      "cell_type": "markdown",
      "metadata": {
        "id": "zFOiXZDQKgcl"
      },
      "source": [
        "## User Interactions ***UTILITY***\n",
        "\n",
        "\n",
        "* *`chart_with_comparisons`* takes a list of teams as input and it shows a bar with the comparison of the *attack, defence etc* of the teams\n",
        "* *`boiler_printings`* prints some boiler stuff\n",
        "* *`chart_by_positions`* plots horizontal bars with the comparison between *attack, defence etc* for the top 20 club. It takes the choice of the user in order to plot the position desired\n"
      ]
    },
    {
      "cell_type": "code",
      "execution_count": 29,
      "metadata": {
        "id": "fHmcbNHdgzLL"
      },
      "outputs": [],
      "source": [
        "data_field_20_club = data_field_20_club.sort_values('Position_name') # did not in place for the warning message\n",
        "def chart_with_comparisons(list_teams):\n",
        "\n",
        "  positions_labels = ['Defensor', 'Forward', 'Goalkeeper', 'Midfielder']\n",
        "  print(positions_labels)\n",
        "  teams_dict = {}\n",
        "  for team in list_teams:\n",
        "    team_stat = data_field_20_club.loc[data_field_20_club[\"Club\"]==team, ['Overall']].squeeze().tolist()\n",
        "    teams_dict[team] = [round(overall,1) for overall in team_stat]\n",
        "    print(\"team: \" + team + \" Team_stat: \" + str(teams_dict[team]))\n",
        "\n",
        "\n",
        "  # Plot\n",
        "  x = np.arange(len(positions_labels))\n",
        "  width = 0.25  # the width of the bars\n",
        "  fig, ax = plt.subplots()\n",
        "  dic_rects={}\n",
        "  i=0\n",
        "  for k,v in teams_dict.items():\n",
        "    if i==0:\n",
        "      r = x\n",
        "      rect = ax.bar(r,v, width, label=k)\n",
        "    else:\n",
        "      r = [x + width for x in r]\n",
        "      rect = ax.bar(r,v, width, label=k)\n",
        "    dic_rects[i] = rect\n",
        "    i += 1\n",
        "\n",
        "  ax.set_ylabel('Overall')\n",
        "  ax.set_title('Overall by player positions')\n",
        "  ax.set_xticks(x)\n",
        "  ax.set_xticklabels(positions_labels)\n",
        "  ax.legend()\n",
        "\n",
        "  def autolabel_new(rects):\n",
        "      \"\"\"Attach a text label above each bar in *rects*, displaying its height.\"\"\"\n",
        "      i=1\n",
        "      for rect in rects:\n",
        "          i += 1\n",
        "          height = rect.get_height()\n",
        "          ax.annotate('{}'.format(height),\n",
        "                      xy=(rect.get_x() + rect.get_width() / 2, height),\n",
        "                      xytext=(0, 3),  # 3 points vertical offset\n",
        "                      textcoords=\"offset points\",\n",
        "                      ha='center', va='bottom')\n",
        "\n",
        "\n",
        "  for k in dic_rects.keys():\n",
        "    autolabel_new(dic_rects[k])\n",
        "\n",
        "  fig.tight_layout()\n",
        "  box = ax.get_position()\n",
        "  ax.set_position([box.x0, box.y0, box.width * 0.8, box.height])\n",
        "  # Legend\n",
        "  ax.legend(loc='center left', bbox_to_anchor=(1, 0.5))\n",
        "  plt.show()"
      ]
    },
    {
      "cell_type": "code",
      "execution_count": 30,
      "metadata": {
        "id": "NFSehB_ad-ef"
      },
      "outputs": [],
      "source": [
        "\n",
        "data_field_20_club = data_field_20_club.sort_values('Position_name') # did not in place for the warning message\n",
        "\n",
        "def chart_by_positions(pos):\n",
        "  positions_labels = ['Defensor', 'Forward', 'Goalkeeper', 'Midfielder']\n",
        "  clubs = clubs_top_20\n",
        "  teams_dict = {}\n",
        "  for team in clubs:\n",
        "    team_stat = data_field_20_club.loc[data_field_20_club[\"Club\"]==team, ['Overall']].squeeze().tolist()\n",
        "    teams_dict[team] = [round(overall,1) for overall in team_stat]\n",
        "  # teams dict {team: [def, for, gk, midfield]}\n",
        "\n",
        "\n",
        "  np.random.seed(19680801)\n",
        "\n",
        "\n",
        "  plt.rcdefaults()\n",
        "  fig, ax = plt.subplots()\n",
        "\n",
        "  \n",
        "  # print(\"clubs: \" + str(clubs))\n",
        "  # Data Bar\n",
        "  y_pos = np.arange(len(clubs))\n",
        "  sorted_teams = dict(sorted(teams_dict.items(), key=lambda item: item[1][pos],\n",
        "                            reverse=True))\n",
        "  clubs = list(sorted_teams.keys())\n",
        "  print(clubs)\n",
        "  # print(teams_dict)\n",
        "  # print(\"-\"*30)\n",
        "  print(sorted_teams)\n",
        "  values = [el[pos] for el in sorted_teams.values()]\n",
        "  # gk_values.sort(reverse=True)\n",
        "  # print(gk_values)\n",
        "  error = np.random.rand(len(clubs))\n",
        "\n",
        "  ax.barh(y_pos, values, xerr=error, align='center')\n",
        "  ax.set_yticks(y_pos)\n",
        "  ax.set_yticklabels(clubs)\n",
        "  ax.invert_yaxis()  # labels read top-to-bottom\n",
        "  ax.set_xlabel(positions_labels[pos] + \" Overall\")\n",
        "  ax.set_title(\"Comparison between \" + positions_labels[pos])\n",
        "\n",
        "  plt.show()\n",
        "\n",
        "\n"
      ]
    },
    {
      "cell_type": "code",
      "execution_count": 31,
      "metadata": {
        "id": "wFgwtKRISIhG"
      },
      "outputs": [],
      "source": [
        "def boiler_printings():\n",
        "  print(\"In this pre-anticipated release you can see:\")\n",
        "  print(\"1: Leaderboard of 20 top club\")\n",
        "  print(\"2: Leaderboard of 20 club if they had reached their max potential\")\n",
        "  print(\"3: Age average\")\n",
        "  print(\"4: most loyal players of clubs\")\n",
        "  print(\"5: chart of:\")\n",
        "  print(\"\\t-5.1: Defense\")\n",
        "  print(\"\\t-5.2: Forward\")\n",
        "  print(\"\\t-5.3: Goalkeeper\")\n",
        "  print(\"\\t-5.4: Midfield\")\n",
        "  print(\"write 'exit' or 'no' or 'i'm bored' when you want to exit\")\n",
        "  print(\"-\"*20)"
      ]
    },
    {
      "cell_type": "markdown",
      "metadata": {
        "id": "jtSN8J7NQYct"
      },
      "source": [
        "Here I create values as functions for a dictionary in order to create a more clean code:\n",
        " `dict{integer: function}`"
      ]
    },
    {
      "cell_type": "code",
      "execution_count": 32,
      "metadata": {
        "id": "pCJ3PXHlU91H"
      },
      "outputs": [],
      "source": [
        "# Functions to put in a dictionary\n",
        "i=20\n",
        "def one():\n",
        "  df1, df2 = clubs_overall_mean_by_position(data_3)\n",
        "  print(\"LEADERBOARD 20 TOP CLUB\")\n",
        "  leaderboard_index(df2[:i])\n",
        "  print(df2[:i])\n",
        "  print(\"-\"*20)\n",
        "\n",
        "\n",
        "def two():\n",
        "  new = top20clubs_by_potential()\n",
        "  old = clubs_overall_mean_by_position(data_3)[1]\n",
        "  print(\"top 20 clubs with mean of the POTENTIAL value:\\n\")\n",
        "  leaderboard_index(new[:i])\n",
        "  print(new[:i])\n",
        "  print(\"-\"*20)\n",
        "\n",
        "  print(\"And these are the gained (+), lost (-) position or new entree in \"\n",
        "        +\"the leaderboard ('new')\")\n",
        "  df = gained_pos(old[:i], new[:i])\n",
        "  leaderboard_index(df)\n",
        "  print(df)\n",
        "  print(\"-\"*20)\n",
        "\n",
        "\n",
        "def three():\n",
        "  df = top20_clubs_age()\n",
        "  print(\"Age average for the 20 top club\")\n",
        "\n",
        "  leaderboard_index(df)\n",
        "  print(df)\n",
        "  print(\"-\"*20)\n",
        " \n",
        "\n",
        "def four():\n",
        "  df = loyal_players()\n",
        "  print(\"Loyal players of first 20 top club\")\n",
        "  leaderboard_index(df)\n",
        "  print(df)\n",
        "\n",
        "  print(\"-\"*20)\n",
        "\n",
        "def five(input):\n",
        "  decimal = int(input[2:])\n",
        "  # print(\"decimal got: \" + str(decimal))\n",
        "  \n",
        "  if decimal not in range(1,5):\n",
        "    print(\"wrong decimal digit\")\n",
        "    return\n",
        "  chart_by_positions(decimal-1)\n",
        "  \n",
        "\n",
        "\n"
      ]
    },
    {
      "cell_type": "markdown",
      "metadata": {
        "id": "H-tVFHFqUxhv"
      },
      "source": [
        "## User interactions ***APPLICATION***:\n",
        "* dynamic (charts chosen by the user)\n",
        "* static (shows statistic and some charts pre-defined)"
      ]
    },
    {
      "cell_type": "code",
      "execution_count": 33,
      "metadata": {
        "id": "o0ePTejh5unl",
        "colab": {
          "base_uri": "https://localhost:8080/",
          "height": 559,
          "referenced_widgets": [
            "caa5290497b8418a8fcd8e1c7e065c61",
            "975df3a1471a424ab32446ceab9c7ad7",
            "0b8db30000c941c88d46c377be848c49",
            "fa1dabcd93c34ea3ad955918150bacc0",
            "c8f996f1cabc4e74a09558d4505e8d0c",
            "95c3b6339000410c81c5dd7c4a9d9d9c",
            "e4cdd7bc133441538921410c8499cf65",
            "996417998e17434b94fd07c4f328b829",
            "d09be26de2f24a81ba400e13d80a8531"
          ]
        },
        "outputId": "589599fd-2cfd-4c16-9d73-b9329a349589"
      },
      "outputs": [
        {
          "output_type": "stream",
          "name": "stdout",
          "text": [
            "Choose 2 or 3 teams to compare their positions values\n"
          ]
        },
        {
          "output_type": "display_data",
          "data": {
            "text/plain": [
              "SelectMultiple(description='Clubs', options=('Juventus', 'Napoli', 'Inter', 'Real Madrid', 'Manchester United'…"
            ],
            "application/vnd.jupyter.widget-view+json": {
              "version_major": 2,
              "version_minor": 0,
              "model_id": "caa5290497b8418a8fcd8e1c7e065c61"
            }
          },
          "metadata": {}
        },
        {
          "output_type": "display_data",
          "data": {
            "text/plain": [
              "Button(description='Ok!', style=ButtonStyle())"
            ],
            "application/vnd.jupyter.widget-view+json": {
              "version_major": 2,
              "version_minor": 0,
              "model_id": "fa1dabcd93c34ea3ad955918150bacc0"
            }
          },
          "metadata": {}
        },
        {
          "output_type": "display_data",
          "data": {
            "text/plain": [
              "Button(description='Exit', style=ButtonStyle())"
            ],
            "application/vnd.jupyter.widget-view+json": {
              "version_major": 2,
              "version_minor": 0,
              "model_id": "e4cdd7bc133441538921410c8499cf65"
            }
          },
          "metadata": {}
        },
        {
          "output_type": "stream",
          "name": "stdout",
          "text": [
            "You have chosen these teams: \n",
            "Juventus---Inter\n",
            "['Defensor', 'Forward', 'Goalkeeper', 'Midfielder']\n",
            "team: Juventus Team_stat: [81.7, 84.6, 80.3, 82.2]\n",
            "team: Inter Team_stat: [80.2, 82.6, 73.2, 80.9]\n"
          ]
        },
        {
          "output_type": "display_data",
          "data": {
            "text/plain": [
              "<Figure size 432x288 with 1 Axes>"
            ],
            "image/png": "[encoded data removed]"
          },
          "metadata": {
            "needs_background": "light"
          }
        }
      ],
      "source": [
        "def dynamic_comparisons(): \n",
        "  list_teams = []\n",
        "  w = widgets.SelectMultiple(\n",
        "      options=clubs_top_20,\n",
        "\n",
        "      #rows=len(clubs_top_20),\n",
        "      description='Clubs',\n",
        "      disabled=False\n",
        "  )\n",
        "  button_click=False\n",
        "  #def dropdown_eventhandler(change):\n",
        "    #print(change['new'])\n",
        "  #  time.sleep(1)\n",
        "\n",
        "  def on_button_clicked(b):\n",
        "    #time.sleep(1)\n",
        "    button_click = True\n",
        "    if button_click:\n",
        "      print(\"You have chosen these teams: \")\n",
        "      list_teams = list(w.value)\n",
        "      print('---'.join(team for team in list_teams))\n",
        "      if len(list_teams)>3:\n",
        "        print(\"-\"*20)\n",
        "        print(\" TOO MUCH CHOICES!\")\n",
        "        return\n",
        "      chart_with_comparisons(list_teams)\n",
        "\n",
        "  def exit(b):\n",
        "    button_click = True\n",
        "    if button_click:\n",
        "      w.close()\n",
        "      button.close()\n",
        "      clear_output()\n",
        "      print(\"I'm closing...\")\n",
        "      time.sleep(1)\n",
        "      clear_output()\n",
        "    \n",
        "  print(\"Choose 2 or 3 teams to compare their positions values\")\n",
        "  button = widgets.Button(description=\"Ok!\")\n",
        "  button_exit = widgets.Button(description=\"Exit\")\n",
        "\n",
        "  display(w)\n",
        "  display(button)\n",
        "  display(button_exit)\n",
        "\n",
        "  button.on_click(on_button_clicked)\n",
        "  button_exit.on_click(exit)\n",
        "\n",
        "dynamic_comparisons()"
      ]
    },
    {
      "cell_type": "code",
      "execution_count": null,
      "metadata": {
        "id": "n_z_Ub55DS-B",
        "colab": {
          "base_uri": "https://localhost:8080/"
        },
        "outputId": "f3b994d1-46ea-4f47-bc1a-32d1d4d50bb7"
      },
      "outputs": [
        {
          "output_type": "stream",
          "name": "stdout",
          "text": [
            "Welcome to FIFA statistics! these are the 20 top club, want do you want to see?\n",
            "In this pre-anticipated release you can see:\n",
            "1: Leaderboard of 20 top club\n",
            "2: Leaderboard of 20 club if they had reached their max potential\n",
            "3: Age average\n",
            "4: most loyal players of clubs\n",
            "5: chart of:\n",
            "\t-5.1: Defense\n",
            "\t-5.2: Forward\n",
            "\t-5.3: Goalkeeper\n",
            "\t-5.4: Midfield\n",
            "write 'exit' or 'no' or 'i'm bored' when you want to exit\n",
            "--------------------\n",
            "--------------------\n",
            "--------------------\n"
          ]
        }
      ],
      "source": [
        "def static_interaction():\n",
        "  dic_user = {1: one, 2:two, 3:three, 4:four, 5:five}\n",
        "  print(\"Welcome to FIFA statistics! these are the 20 top club\"+\n",
        "        \", want do you want to see?\")\n",
        "  boiler_printings()\n",
        "  print(\"-\"*20)\n",
        "  exit = False\n",
        "  while(not exit):\n",
        "    print(\"-\"*20)\n",
        "    choose = input(\"choose your statistic with the relative number: \")\n",
        "    print(\"-\"*20)\n",
        "    if choose.isdigit():\n",
        "      if choose  in dic_user.keys():\n",
        "        dic_user[int(choose)]()\n",
        "    elif choose.lower()=='exit' or choose.lower()=='no' or choose.lower() == \"i'm bored\":\n",
        "        clear_output()\n",
        "        print(\"I'm closing...\")\n",
        "        time.sleep(1)\n",
        "        clear_output()\n",
        "        exit = True\n",
        "        break\n",
        "    elif isinstance(float(choose), float):\n",
        "      dic_user[int(choose[:1])](choose)\n",
        "    else:\n",
        "      print(\"\\t\\t | WRONG INPUT |\")\n",
        "    print(\"-\"*20)\n",
        "    boiler_printings()\n",
        "\n",
        "static_interaction()"
      ]
    },
    {
      "cell_type": "code",
      "source": [
        ""
      ],
      "metadata": {
        "id": "6pV7mm6-bRuW"
      },
      "execution_count": null,
      "outputs": []
    }
  ],
  "metadata": {
    "colab": {
      "collapsed_sections": [
        "zFOiXZDQKgcl"
      ],
      "name": "FIS-Project_FIFA19.ipynb",
      "provenance": [],
      "toc_visible": true
    },
    "kernelspec": {
      "display_name": "Python 3",
      "language": "python",
      "name": "python3"
    },
    "language_info": {
      "codemirror_mode": {
        "name": "ipython",
        "version": 3
      },
      "file_extension": ".py",
      "mimetype": "text/x-python",
      "name": "python",
      "nbconvert_exporter": "python",
      "pygments_lexer": "ipython3",
      "version": "3.8.5"
    },
    "widgets": {
      "application/vnd.jupyter.widget-state+json": {
        "caa5290497b8418a8fcd8e1c7e065c61": {
          "model_module": "@jupyter-widgets/controls",
          "model_name": "SelectMultipleModel",
          "model_module_version": "1.5.0",
          "state": {
            "_dom_classes": [],
            "_model_module": "@jupyter-widgets/controls",
            "_model_module_version": "1.5.0",
            "_model_name": "SelectMultipleModel",
            "_options_labels": [
              "Juventus",
              "Napoli",
              "Inter",
              "Real Madrid",
              "Manchester United",
              "Milan",
              "FC Barcelona",
              "Paris Saint-Germain",
              "Roma",
              "FC Bayern München",
              "Tottenham Hotspur",
              "SL Benfica",
              "Arsenal",
              "Chelsea",
              "FC Porto",
              "Sporting CP",
              "Manchester City",
              "Liverpool",
              "Atlético Madrid",
              "Bayer 04 Leverkusen"
            ],
            "_view_count": null,
            "_view_module": "@jupyter-widgets/controls",
            "_view_module_version": "1.5.0",
            "_view_name": "SelectMultipleView",
            "description": "Clubs",
            "description_tooltip": null,
            "disabled": false,
            "index": [
              0,
              2
            ],
            "layout": "IPY_MODEL_975df3a1471a424ab32446ceab9c7ad7",
            "rows": 5,
            "style": "IPY_MODEL_0b8db30000c941c88d46c377be848c49"
          }
        },
        "975df3a1471a424ab32446ceab9c7ad7": {
          "model_module": "@jupyter-widgets/base",
          "model_name": "LayoutModel",
          "model_module_version": "1.2.0",
          "state": {
            "_model_module": "@jupyter-widgets/base",
            "_model_module_version": "1.2.0",
            "_model_name": "LayoutModel",
            "_view_count": null,
            "_view_module": "@jupyter-widgets/base",
            "_view_module_version": "1.2.0",
            "_view_name": "LayoutView",
            "align_content": null,
            "align_items": null,
            "align_self": null,
            "border": null,
            "bottom": null,
            "display": null,
            "flex": null,
            "flex_flow": null,
            "grid_area": null,
            "grid_auto_columns": null,
            "grid_auto_flow": null,
            "grid_auto_rows": null,
            "grid_column": null,
            "grid_gap": null,
            "grid_row": null,
            "grid_template_areas": null,
            "grid_template_columns": null,
            "grid_template_rows": null,
            "height": null,
            "justify_content": null,
            "justify_items": null,
            "left": null,
            "margin": null,
            "max_height": null,
            "max_width": null,
            "min_height": null,
            "min_width": null,
            "object_fit": null,
            "object_position": null,
            "order": null,
            "overflow": null,
            "overflow_x": null,
            "overflow_y": null,
            "padding": null,
            "right": null,
            "top": null,
            "visibility": null,
            "width": null
          }
        },
        "0b8db30000c941c88d46c377be848c49": {
          "model_module": "@jupyter-widgets/controls",
          "model_name": "DescriptionStyleModel",
          "model_module_version": "1.5.0",
          "state": {
            "_model_module": "@jupyter-widgets/controls",
            "_model_module_version": "1.5.0",
            "_model_name": "DescriptionStyleModel",
            "_view_count": null,
            "_view_module": "@jupyter-widgets/base",
            "_view_module_version": "1.2.0",
            "_view_name": "StyleView",
            "description_width": ""
          }
        },
        "fa1dabcd93c34ea3ad955918150bacc0": {
          "model_module": "@jupyter-widgets/controls",
          "model_name": "ButtonModel",
          "model_module_version": "1.5.0",
          "state": {
            "_dom_classes": [],
            "_model_module": "@jupyter-widgets/controls",
            "_model_module_version": "1.5.0",
            "_model_name": "ButtonModel",
            "_view_count": null,
            "_view_module": "@jupyter-widgets/controls",
            "_view_module_version": "1.5.0",
            "_view_name": "ButtonView",
            "button_style": "",
            "description": "Ok!",
            "disabled": false,
            "icon": "",
            "layout": "IPY_MODEL_c8f996f1cabc4e74a09558d4505e8d0c",
            "style": "IPY_MODEL_95c3b6339000410c81c5dd7c4a9d9d9c",
            "tooltip": ""
          }
        },
        "c8f996f1cabc4e74a09558d4505e8d0c": {
          "model_module": "@jupyter-widgets/base",
          "model_name": "LayoutModel",
          "model_module_version": "1.2.0",
          "state": {
            "_model_module": "@jupyter-widgets/base",
            "_model_module_version": "1.2.0",
            "_model_name": "LayoutModel",
            "_view_count": null,
            "_view_module": "@jupyter-widgets/base",
            "_view_module_version": "1.2.0",
            "_view_name": "LayoutView",
            "align_content": null,
            "align_items": null,
            "align_self": null,
            "border": null,
            "bottom": null,
            "display": null,
            "flex": null,
            "flex_flow": null,
            "grid_area": null,
            "grid_auto_columns": null,
            "grid_auto_flow": null,
            "grid_auto_rows": null,
            "grid_column": null,
            "grid_gap": null,
            "grid_row": null,
            "grid_template_areas": null,
            "grid_template_columns": null,
            "grid_template_rows": null,
            "height": null,
            "justify_content": null,
            "justify_items": null,
            "left": null,
            "margin": null,
            "max_height": null,
            "max_width": null,
            "min_height": null,
            "min_width": null,
            "object_fit": null,
            "object_position": null,
            "order": null,
            "overflow": null,
            "overflow_x": null,
            "overflow_y": null,
            "padding": null,
            "right": null,
            "top": null,
            "visibility": null,
            "width": null
          }
        },
        "95c3b6339000410c81c5dd7c4a9d9d9c": {
          "model_module": "@jupyter-widgets/controls",
          "model_name": "ButtonStyleModel",
          "model_module_version": "1.5.0",
          "state": {
            "_model_module": "@jupyter-widgets/controls",
            "_model_module_version": "1.5.0",
            "_model_name": "ButtonStyleModel",
            "_view_count": null,
            "_view_module": "@jupyter-widgets/base",
            "_view_module_version": "1.2.0",
            "_view_name": "StyleView",
            "button_color": null,
            "font_weight": ""
          }
        },
        "e4cdd7bc133441538921410c8499cf65": {
          "model_module": "@jupyter-widgets/controls",
          "model_name": "ButtonModel",
          "model_module_version": "1.5.0",
          "state": {
            "_dom_classes": [],
            "_model_module": "@jupyter-widgets/controls",
            "_model_module_version": "1.5.0",
            "_model_name": "ButtonModel",
            "_view_count": null,
            "_view_module": "@jupyter-widgets/controls",
            "_view_module_version": "1.5.0",
            "_view_name": "ButtonView",
            "button_style": "",
            "description": "Exit",
            "disabled": false,
            "icon": "",
            "layout": "IPY_MODEL_996417998e17434b94fd07c4f328b829",
            "style": "IPY_MODEL_d09be26de2f24a81ba400e13d80a8531",
            "tooltip": ""
          }
        },
        "996417998e17434b94fd07c4f328b829": {
          "model_module": "@jupyter-widgets/base",
          "model_name": "LayoutModel",
          "model_module_version": "1.2.0",
          "state": {
            "_model_module": "@jupyter-widgets/base",
            "_model_module_version": "1.2.0",
            "_model_name": "LayoutModel",
            "_view_count": null,
            "_view_module": "@jupyter-widgets/base",
            "_view_module_version": "1.2.0",
            "_view_name": "LayoutView",
            "align_content": null,
            "align_items": null,
            "align_self": null,
            "border": null,
            "bottom": null,
            "display": null,
            "flex": null,
            "flex_flow": null,
            "grid_area": null,
            "grid_auto_columns": null,
            "grid_auto_flow": null,
            "grid_auto_rows": null,
            "grid_column": null,
            "grid_gap": null,
            "grid_row": null,
            "grid_template_areas": null,
            "grid_template_columns": null,
            "grid_template_rows": null,
            "height": null,
            "justify_content": null,
            "justify_items": null,
            "left": null,
            "margin": null,
            "max_height": null,
            "max_width": null,
            "min_height": null,
            "min_width": null,
            "object_fit": null,
            "object_position": null,
            "order": null,
            "overflow": null,
            "overflow_x": null,
            "overflow_y": null,
            "padding": null,
            "right": null,
            "top": null,
            "visibility": null,
            "width": null
          }
        },
        "d09be26de2f24a81ba400e13d80a8531": {
          "model_module": "@jupyter-widgets/controls",
          "model_name": "ButtonStyleModel",
          "model_module_version": "1.5.0",
          "state": {
            "_model_module": "@jupyter-widgets/controls",
            "_model_module_version": "1.5.0",
            "_model_name": "ButtonStyleModel",
            "_view_count": null,
            "_view_module": "@jupyter-widgets/base",
            "_view_module_version": "1.2.0",
            "_view_name": "StyleView",
            "button_color": null,
            "font_weight": ""
          }
        }
      }
    }
  },
  "nbformat": 4,
  "nbformat_minor": 0
}